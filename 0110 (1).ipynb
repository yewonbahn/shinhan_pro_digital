{
  "nbformat": 4,
  "nbformat_minor": 0,
  "metadata": {
    "colab": {
      "provenance": []
    },
    "kernelspec": {
      "name": "python3",
      "display_name": "Python 3"
    },
    "language_info": {
      "name": "python"
    }
  },
  "cells": [
    {
      "cell_type": "markdown",
      "source": [
        "LIST"
      ],
      "metadata": {
        "id": "vPfyEfL7zAj9"
      }
    },
    {
      "cell_type": "code",
      "source": [
        "animals=['cat','dog','hamster']"
      ],
      "metadata": {
        "id": "NKizRUMSzBbW"
      },
      "execution_count": null,
      "outputs": []
    },
    {
      "cell_type": "code",
      "source": [
        "animals"
      ],
      "metadata": {
        "colab": {
          "base_uri": "https://localhost:8080/"
        },
        "id": "FUgUNH-hzgrU",
        "outputId": "d44821fa-6dea-4a6e-eb9c-f2a56656d031"
      },
      "execution_count": null,
      "outputs": [
        {
          "output_type": "execute_result",
          "data": {
            "text/plain": [
              "['cat', 'dog', 'hamster']"
            ]
          },
          "metadata": {},
          "execution_count": 2
        }
      ]
    },
    {
      "cell_type": "code",
      "source": [
        "animals.append('lion')"
      ],
      "metadata": {
        "id": "qx4W6MJGzmfa"
      },
      "execution_count": null,
      "outputs": []
    },
    {
      "cell_type": "code",
      "source": [
        "animals.insert(1,\"tiger\")\n",
        "animals"
      ],
      "metadata": {
        "colab": {
          "base_uri": "https://localhost:8080/"
        },
        "id": "6TqxIG2hzoL6",
        "outputId": "66a5b269-7987-41db-919d-a64647e32fe0"
      },
      "execution_count": null,
      "outputs": [
        {
          "output_type": "execute_result",
          "data": {
            "text/plain": [
              "['cat', 'tiger', 'tiger', 'tiger', 'dog', 'hamster', 'lion']"
            ]
          },
          "metadata": {},
          "execution_count": 6
        }
      ]
    },
    {
      "cell_type": "code",
      "source": [
        "animals.pop(2)"
      ],
      "metadata": {
        "colab": {
          "base_uri": "https://localhost:8080/",
          "height": 35
        },
        "id": "MXvo-ZHP0K-S",
        "outputId": "5cb3487e-6ad5-4321-e48e-122f0f416a8b"
      },
      "execution_count": null,
      "outputs": [
        {
          "output_type": "execute_result",
          "data": {
            "text/plain": [
              "'tiger'"
            ],
            "application/vnd.google.colaboratory.intrinsic+json": {
              "type": "string"
            }
          },
          "metadata": {},
          "execution_count": 9
        }
      ]
    },
    {
      "cell_type": "code",
      "source": [
        "animals.sort()"
      ],
      "metadata": {
        "id": "dlEL1Qmb0eP2"
      },
      "execution_count": null,
      "outputs": []
    },
    {
      "cell_type": "code",
      "source": [
        "animals"
      ],
      "metadata": {
        "colab": {
          "base_uri": "https://localhost:8080/"
        },
        "id": "ZfISvvbm0fbR",
        "outputId": "35383ff2-a900-40df-ca3e-8304d96b60e5"
      },
      "execution_count": null,
      "outputs": [
        {
          "output_type": "execute_result",
          "data": {
            "text/plain": [
              "['cat', 'dog', 'hamster', 'lion', 'tiger']"
            ]
          },
          "metadata": {},
          "execution_count": 12
        }
      ]
    },
    {
      "cell_type": "code",
      "source": [
        "numbers=[0,100,50,-10,20,-1000]\n",
        "numbers.sort()"
      ],
      "metadata": {
        "id": "8jXRRG400kZZ"
      },
      "execution_count": null,
      "outputs": []
    },
    {
      "cell_type": "code",
      "source": [
        "numbers"
      ],
      "metadata": {
        "colab": {
          "base_uri": "https://localhost:8080/"
        },
        "id": "NLJ5EwLc1GLs",
        "outputId": "cf8318d8-ec1c-45b4-a65a-d361dc3a050d"
      },
      "execution_count": null,
      "outputs": [
        {
          "output_type": "execute_result",
          "data": {
            "text/plain": [
              "[-1000, -10, 0, 20, 50, 100]"
            ]
          },
          "metadata": {},
          "execution_count": 16
        }
      ]
    },
    {
      "cell_type": "code",
      "source": [
        "numbers.reverse()\n",
        "numbers"
      ],
      "metadata": {
        "colab": {
          "base_uri": "https://localhost:8080/"
        },
        "id": "LtstrYaP1KXJ",
        "outputId": "b50f85b1-62f2-4dc5-84b3-b10934b8c263"
      },
      "execution_count": null,
      "outputs": [
        {
          "output_type": "execute_result",
          "data": {
            "text/plain": [
              "[100, 50, 20, 0, -10, -1000]"
            ]
          },
          "metadata": {},
          "execution_count": 17
        }
      ]
    },
    {
      "cell_type": "code",
      "source": [
        "numbers.index(0)"
      ],
      "metadata": {
        "colab": {
          "base_uri": "https://localhost:8080/"
        },
        "id": "EyD58csd1M-p",
        "outputId": "f827a822-1946-4003-828a-3bb06c3e073c"
      },
      "execution_count": null,
      "outputs": [
        {
          "output_type": "execute_result",
          "data": {
            "text/plain": [
              "3"
            ]
          },
          "metadata": {},
          "execution_count": 19
        }
      ]
    },
    {
      "cell_type": "code",
      "source": [
        "tup1=(1,2,3,4)\n",
        "tup2=(5,6)\n",
        "tup1+tup2"
      ],
      "metadata": {
        "colab": {
          "base_uri": "https://localhost:8080/"
        },
        "id": "dc__VW6j3L58",
        "outputId": "705bdf44-0099-40ee-ad64-65888c717108"
      },
      "execution_count": null,
      "outputs": [
        {
          "output_type": "execute_result",
          "data": {
            "text/plain": [
              "(1, 2, 3, 4, 5, 6)"
            ]
          },
          "metadata": {},
          "execution_count": 21
        }
      ]
    },
    {
      "cell_type": "code",
      "source": [
        "animals=[\"rabbit\",\"cat\",\"dog\",\"aligator\",\"tiger\",\"lion\"]\n",
        "animals.extend([\"elephant\",\"new\",\"fish\"])\n",
        "animals"
      ],
      "metadata": {
        "colab": {
          "base_uri": "https://localhost:8080/"
        },
        "id": "EkNDnaPO69Ez",
        "outputId": "019f8bcd-5592-44a7-d598-2633d9c41eb6"
      },
      "execution_count": null,
      "outputs": [
        {
          "output_type": "execute_result",
          "data": {
            "text/plain": [
              "['rabbit',\n",
              " 'cat',\n",
              " 'dog',\n",
              " 'aligator',\n",
              " 'tiger',\n",
              " 'lion',\n",
              " 'elephant',\n",
              " 'new',\n",
              " 'fish']"
            ]
          },
          "metadata": {},
          "execution_count": 39
        }
      ]
    },
    {
      "cell_type": "code",
      "source": [
        "animals.reverse()\n",
        "animals"
      ],
      "metadata": {
        "colab": {
          "base_uri": "https://localhost:8080/"
        },
        "id": "vQ72WgNL_xTD",
        "outputId": "8c08da6f-bb97-46bd-e4b4-bf8633b4ac86"
      },
      "execution_count": null,
      "outputs": [
        {
          "output_type": "execute_result",
          "data": {
            "text/plain": [
              "['fish',\n",
              " 'new',\n",
              " 'elephant',\n",
              " 'lion',\n",
              " 'tiger',\n",
              " 'aligator',\n",
              " 'dog',\n",
              " 'cat',\n",
              " 'rabbit']"
            ]
          },
          "metadata": {},
          "execution_count": 40
        }
      ]
    },
    {
      "cell_type": "code",
      "source": [
        "even_animals = animals[::2]\n",
        "even_animals"
      ],
      "metadata": {
        "colab": {
          "base_uri": "https://localhost:8080/"
        },
        "id": "aPhOq-Z-_0Aj",
        "outputId": "9a779475-964e-45a6-98cc-afb4c80671c6"
      },
      "execution_count": null,
      "outputs": [
        {
          "output_type": "execute_result",
          "data": {
            "text/plain": [
              "['fish', 'elephant', 'tiger', 'dog', 'rabbit']"
            ]
          },
          "metadata": {},
          "execution_count": 41
        }
      ]
    },
    {
      "cell_type": "code",
      "source": [
        "animals2=(\"rabbit\",\"cat\",\"dog\",\"aligator\",\"tiger\",\"lion\")\n",
        "animals2+=(\"elephant\",\"new\",\"fish\")\n",
        "animals2"
      ],
      "metadata": {
        "colab": {
          "base_uri": "https://localhost:8080/"
        },
        "id": "zOcsLGm5_8E9",
        "outputId": "2ecb2c7c-a490-451a-af06-e897349c480e"
      },
      "execution_count": null,
      "outputs": [
        {
          "output_type": "execute_result",
          "data": {
            "text/plain": [
              "('rabbit',\n",
              " 'cat',\n",
              " 'dog',\n",
              " 'aligator',\n",
              " 'tiger',\n",
              " 'lion',\n",
              " 'elephant',\n",
              " 'new',\n",
              " 'fish')"
            ]
          },
          "metadata": {},
          "execution_count": 32
        }
      ]
    },
    {
      "cell_type": "markdown",
      "source": [],
      "metadata": {
        "id": "5_xpvwsnDx8K"
      }
    },
    {
      "cell_type": "code",
      "source": [
        "even_animals2 = animals2[::2]\n",
        "print(even_animals2)"
      ],
      "metadata": {
        "colab": {
          "base_uri": "https://localhost:8080/"
        },
        "id": "XdmeLNvxARMf",
        "outputId": "8751eec3-145b-4d2b-fb0e-54e222716822"
      },
      "execution_count": null,
      "outputs": [
        {
          "output_type": "stream",
          "name": "stdout",
          "text": [
            "('rabbit', 'dog', 'tiger', 'elephant', 'fish')\n"
          ]
        }
      ]
    },
    {
      "cell_type": "code",
      "source": [
        "105%2"
      ],
      "metadata": {
        "colab": {
          "base_uri": "https://localhost:8080/"
        },
        "id": "Bm_Fr2GmAbRL",
        "outputId": "eeba2616-e71c-4f39-a4e2-298e5a6dac8a"
      },
      "execution_count": null,
      "outputs": [
        {
          "output_type": "execute_result",
          "data": {
            "text/plain": [
              "1"
            ]
          },
          "metadata": {},
          "execution_count": 38
        }
      ]
    },
    {
      "cell_type": "markdown",
      "source": [
        "Dictionary"
      ],
      "metadata": {
        "id": "Hz7U6paOQKiB"
      }
    },
    {
      "cell_type": "code",
      "source": [
        "#some_dict={}\n",
        "some_dict={\n",
        "    'name':'john',\n",
        "    'surname':'Doe',\n",
        "}\n",
        "another_dict=dict([('name','John'),('surname','Doe')])"
      ],
      "metadata": {
        "id": "J0A-fEePC7xa"
      },
      "execution_count": null,
      "outputs": []
    },
    {
      "cell_type": "code",
      "source": [
        "some_dict['name']"
      ],
      "metadata": {
        "colab": {
          "base_uri": "https://localhost:8080/",
          "height": 35
        },
        "id": "2WZicqgFQa4M",
        "outputId": "78571fa4-5444-4239-9ece-2926dbf9956d"
      },
      "execution_count": null,
      "outputs": [
        {
          "output_type": "execute_result",
          "data": {
            "text/plain": [
              "'john'"
            ],
            "application/vnd.google.colaboratory.intrinsic+json": {
              "type": "string"
            }
          },
          "metadata": {},
          "execution_count": 44
        }
      ]
    },
    {
      "cell_type": "code",
      "source": [
        "another_dict"
      ],
      "metadata": {
        "colab": {
          "base_uri": "https://localhost:8080/"
        },
        "id": "c6PsOvr1QrYR",
        "outputId": "697d8395-0fa7-4c46-cf15-d510bcd5967a"
      },
      "execution_count": null,
      "outputs": [
        {
          "output_type": "execute_result",
          "data": {
            "text/plain": [
              "{'name': 'John', 'surname': 'Doe'}"
            ]
          },
          "metadata": {},
          "execution_count": 46
        }
      ]
    },
    {
      "cell_type": "code",
      "source": [
        "another_dict['surname']"
      ],
      "metadata": {
        "colab": {
          "base_uri": "https://localhost:8080/",
          "height": 35
        },
        "id": "e9G0dvJ3Q89y",
        "outputId": "6ff2e921-3833-42ad-fb11-28ab1ba1e361"
      },
      "execution_count": null,
      "outputs": [
        {
          "output_type": "execute_result",
          "data": {
            "text/plain": [
              "'Doe'"
            ],
            "application/vnd.google.colaboratory.intrinsic+json": {
              "type": "string"
            }
          },
          "metadata": {},
          "execution_count": 47
        }
      ]
    },
    {
      "cell_type": "code",
      "source": [
        "some_dict['email']='john12@gmail.com'\n",
        "some_dict"
      ],
      "metadata": {
        "colab": {
          "base_uri": "https://localhost:8080/"
        },
        "id": "JUcqNAAhQ_U9",
        "outputId": "db3d521f-1406-4694-b987-379842fb6c99"
      },
      "execution_count": null,
      "outputs": [
        {
          "output_type": "execute_result",
          "data": {
            "text/plain": [
              "{'name': 'john', 'surname': 'Doe', 'email': 'john12@gmail.com'}"
            ]
          },
          "metadata": {},
          "execution_count": 49
        }
      ]
    },
    {
      "cell_type": "code",
      "source": [
        "some_dict['mid-term'] = {}\n",
        "some_dict"
      ],
      "metadata": {
        "colab": {
          "base_uri": "https://localhost:8080/"
        },
        "id": "xFjTN729R3x3",
        "outputId": "cc76dd7e-33b8-415f-bcc4-3507952dc708"
      },
      "execution_count": null,
      "outputs": [
        {
          "output_type": "execute_result",
          "data": {
            "text/plain": [
              "{'name': 'john', 'surname': 'Doe', 'email': 'john12@gmail.com', 'mid-term': {}}"
            ]
          },
          "metadata": {},
          "execution_count": 51
        }
      ]
    },
    {
      "cell_type": "code",
      "source": [
        "some_dict['mid-term']['Korean'] = 80\n",
        "some_dict"
      ],
      "metadata": {
        "colab": {
          "base_uri": "https://localhost:8080/"
        },
        "id": "HgWLoWihSYBB",
        "outputId": "11f8072e-b9a6-4865-d834-2618d9b321a6"
      },
      "execution_count": null,
      "outputs": [
        {
          "output_type": "execute_result",
          "data": {
            "text/plain": [
              "{'name': 'john',\n",
              " 'surname': 'Doe',\n",
              " 'email': 'john12@gmail.com',\n",
              " 'mid-term': {'Korean': 80}}"
            ]
          },
          "metadata": {},
          "execution_count": 52
        }
      ]
    },
    {
      "cell_type": "code",
      "source": [
        "some_dict['mid-term']['English'] = 70\n",
        "some_dict['mid-term']['Math'] = 60\n",
        "some_dict['mid-term']['Science']=[10,40,50,30]"
      ],
      "metadata": {
        "id": "O_PrF_ZfSvSu"
      },
      "execution_count": null,
      "outputs": []
    },
    {
      "cell_type": "code",
      "source": [
        "some_dict"
      ],
      "metadata": {
        "colab": {
          "base_uri": "https://localhost:8080/"
        },
        "id": "ik638o48TU03",
        "outputId": "f2a34919-737a-4928-83cc-85b43c45446c"
      },
      "execution_count": null,
      "outputs": [
        {
          "output_type": "execute_result",
          "data": {
            "text/plain": [
              "{'name': 'john',\n",
              " 'surname': 'Doe',\n",
              " 'email': 'john12@gmail.com',\n",
              " 'mid-term': {'Korean': 80,\n",
              "  'English': 70,\n",
              "  'Math': 60,\n",
              "  'Science': [10, 40, 50, 30]}}"
            ]
          },
          "metadata": {},
          "execution_count": 54
        }
      ]
    },
    {
      "cell_type": "code",
      "source": [
        "del some_dict['email']\n",
        "some_dict"
      ],
      "metadata": {
        "colab": {
          "base_uri": "https://localhost:8080/"
        },
        "id": "M0aQO3r7TgZh",
        "outputId": "865af644-8bb9-490e-c6b8-c5ed0f9999eb"
      },
      "execution_count": null,
      "outputs": [
        {
          "output_type": "execute_result",
          "data": {
            "text/plain": [
              "{'name': 'john',\n",
              " 'surname': 'Doe',\n",
              " 'mid-term': {'Korean': 80,\n",
              "  'English': 70,\n",
              "  'Math': 60,\n",
              "  'Science': [10, 40, 50, 30]}}"
            ]
          },
          "metadata": {},
          "execution_count": 55
        }
      ]
    },
    {
      "cell_type": "code",
      "source": [
        "some_dict.keys()"
      ],
      "metadata": {
        "colab": {
          "base_uri": "https://localhost:8080/"
        },
        "id": "_tWM5biaT0PX",
        "outputId": "5bbf500e-40e8-429a-efd6-ba387a1a42fc"
      },
      "execution_count": null,
      "outputs": [
        {
          "output_type": "execute_result",
          "data": {
            "text/plain": [
              "dict_keys(['name', 'surname', 'mid-term'])"
            ]
          },
          "metadata": {},
          "execution_count": 56
        }
      ]
    },
    {
      "cell_type": "code",
      "source": [
        "some_dict.values()"
      ],
      "metadata": {
        "colab": {
          "base_uri": "https://localhost:8080/"
        },
        "id": "L7_VUF0xUJNI",
        "outputId": "b4da5bc5-e621-4cb0-ea03-ecb02a4fcde8"
      },
      "execution_count": null,
      "outputs": [
        {
          "output_type": "execute_result",
          "data": {
            "text/plain": [
              "dict_values(['john', 'Doe', {'Korean': 80, 'English': 70, 'Math': 60, 'Science': [10, 40, 50, 30]}])"
            ]
          },
          "metadata": {},
          "execution_count": 57
        }
      ]
    },
    {
      "cell_type": "code",
      "source": [
        "some_dict.pop('surname')\n",
        "some_dict"
      ],
      "metadata": {
        "colab": {
          "base_uri": "https://localhost:8080/"
        },
        "id": "OTWMytVbUK50",
        "outputId": "55dde918-303e-4705-e04f-483808599a56"
      },
      "execution_count": null,
      "outputs": [
        {
          "output_type": "execute_result",
          "data": {
            "text/plain": [
              "{'name': 'john',\n",
              " 'mid-term': {'Korean': 80,\n",
              "  'English': 70,\n",
              "  'Math': 60,\n",
              "  'Science': [10, 40, 50, 30]}}"
            ]
          },
          "metadata": {},
          "execution_count": 58
        }
      ]
    },
    {
      "cell_type": "code",
      "source": [
        "some_dict.popitem() "
      ],
      "metadata": {
        "colab": {
          "base_uri": "https://localhost:8080/"
        },
        "id": "RA2xwmrjUuyH",
        "outputId": "2045e783-ea5b-48a8-c66d-463294a266c8"
      },
      "execution_count": null,
      "outputs": [
        {
          "output_type": "execute_result",
          "data": {
            "text/plain": [
              "('mid-term',\n",
              " {'Korean': 80, 'English': 70, 'Math': 60, 'Science': [10, 40, 50, 30]})"
            ]
          },
          "metadata": {},
          "execution_count": 62
        }
      ]
    },
    {
      "cell_type": "code",
      "source": [
        "import itertools\n",
        "\n",
        "arr = [1,2]\n",
        "nPr = itertools.permutations(arr,2)\n",
        "print(len(list(nPr))2)"
      ],
      "metadata": {
        "colab": {
          "base_uri": "https://localhost:8080/"
        },
        "id": "VacDt7ZHU_So",
        "outputId": "33e31e51-533e-4a8a-9666-fa9ed99e2ba0"
      },
      "execution_count": null,
      "outputs": [
        {
          "output_type": "stream",
          "name": "stdout",
          "text": [
            "1.0\n"
          ]
        }
      ]
    },
    {
      "cell_type": "markdown",
      "source": [],
      "metadata": {
        "id": "fJRgh6iybtyL"
      }
    },
    {
      "cell_type": "code",
      "source": [
        "arr=[]\n",
        "arr+=[1]*3\n",
        "arr+=[2]*2\n",
        "arr"
      ],
      "metadata": {
        "colab": {
          "base_uri": "https://localhost:8080/"
        },
        "id": "DvWk3AczWgvF",
        "outputId": "8404b3f5-88b2-4ac1-ed83-1d2ba1517fcc"
      },
      "execution_count": null,
      "outputs": [
        {
          "output_type": "execute_result",
          "data": {
            "text/plain": [
              "[1, 1, 1, 2, 2]"
            ]
          },
          "metadata": {},
          "execution_count": 88
        }
      ]
    },
    {
      "cell_type": "code",
      "source": [
        "contacts = {'name':'Guido',\n",
        "'country':'Netherland'}\n",
        "\n",
        "print(\"{name} is born in {country}\".format(**contacts))"
      ],
      "metadata": {
        "colab": {
          "base_uri": "https://localhost:8080/"
        },
        "id": "GsepTWMqYk2k",
        "outputId": "7fc4575b-d6a8-4cdf-e942-481b7bccbe2d"
      },
      "execution_count": null,
      "outputs": [
        {
          "output_type": "stream",
          "name": "stdout",
          "text": [
            "Guido is born in Netherland\n"
          ]
        }
      ]
    },
    {
      "cell_type": "code",
      "source": [
        "A = set('fastcampus')\n",
        "B = set('python')\n",
        "print(A|B)\n",
        "print(A&B)\n",
        "print(A-B)\n",
        "print(A ^ B)"
      ],
      "metadata": {
        "colab": {
          "base_uri": "https://localhost:8080/"
        },
        "id": "5hMaTmYPeIhc",
        "outputId": "4dd06992-6cf1-40c7-c0cf-30ab92d683be"
      },
      "execution_count": null,
      "outputs": [
        {
          "output_type": "stream",
          "name": "stdout",
          "text": [
            "{'f', 't', 'u', 'a', 'c', 's', 'y', 'o', 'n', 'h', 'm', 'p'}\n",
            "{'t', 'p'}\n",
            "{'f', 'u', 'a', 'c', 's', 'm'}\n",
            "{'a', 's', 'y', 'h', 'f', 'u', 'c', 'o', 'n', 'm'}\n"
          ]
        }
      ]
    },
    {
      "cell_type": "code",
      "source": [],
      "metadata": {
        "id": "D7j-5BLnephd"
      },
      "execution_count": null,
      "outputs": []
    },
    {
      "cell_type": "markdown",
      "source": [
        "Set"
      ],
      "metadata": {
        "id": "eehcc3O_gPdm"
      }
    },
    {
      "cell_type": "code",
      "source": [
        "faang={'facebook','apple','amazon','netflix','google','netflix'}"
      ],
      "metadata": {
        "id": "9VjAVMJmgQPn"
      },
      "execution_count": null,
      "outputs": []
    },
    {
      "cell_type": "code",
      "source": [
        "split_str=set('facebook')"
      ],
      "metadata": {
        "id": "qJARQvaYgXpv"
      },
      "execution_count": null,
      "outputs": []
    },
    {
      "cell_type": "code",
      "source": [
        "split_str"
      ],
      "metadata": {
        "colab": {
          "base_uri": "https://localhost:8080/"
        },
        "id": "_ql1Plm-gvJs",
        "outputId": "dfaa4fba-f302-45ce-afe6-55667fa6caa2"
      },
      "execution_count": null,
      "outputs": [
        {
          "output_type": "execute_result",
          "data": {
            "text/plain": [
              "{'a', 'b', 'c', 'e', 'f', 'k', 'o'}"
            ]
          },
          "metadata": {},
          "execution_count": 101
        }
      ]
    },
    {
      "cell_type": "code",
      "source": [
        "set_a=set('fastcampus')\n",
        "set_b=set('shinhan')\n",
        "print(set_a|set_b)\n",
        "print(set_a & set_b)\n",
        "print(set_a ^ set_b)"
      ],
      "metadata": {
        "colab": {
          "base_uri": "https://localhost:8080/"
        },
        "id": "kfo0WCU9gzI7",
        "outputId": "7f8b3edc-37f0-42a5-bfb2-78ebe7ccee71"
      },
      "execution_count": null,
      "outputs": [
        {
          "output_type": "stream",
          "name": "stdout",
          "text": [
            "{'f', 't', 'u', 'a', 'c', 's', 'n', 'h', 'm', 'i', 'p'}\n",
            "{'s', 'a'}\n",
            "{'t', 'm', 'h', 'p', 'f', 'u', 'c', 'n', 'i'}\n"
          ]
        }
      ]
    },
    {
      "cell_type": "code",
      "source": [
        "info=[\n",
        "    {\"Name\":\"Silberhand\",\n",
        "       \"Local\":\"Night City\",\n",
        "       \"Age\":120,\n",
        "       \"Usename\":\"Johnny\",\n",
        "       },\n",
        "      {\"Name\":\"John Doe\",\n",
        "       \"Local\":\"CA, USA\",\n",
        "       \"Age\":40,\n",
        "       \"Usename\":\"Doh\",\n",
        "       },\n",
        "      {\"Name\":\"Jane Doe\",\n",
        "       \"Local\":\"Seoul City\",\n",
        "       \"Age\":24,\n",
        "       \"Usename\":\"jane-doe\",\n",
        "       },\n",
        "      {\"Name\":\"Foo Bar\",\n",
        "       \"Local\":\"Busan City\",\n",
        "       \"Age\":31,\n",
        "       \"Usename\":\"foo-bar\",\n",
        "       },\n",
        "      ]\n",
        "print(info)\n",
        "info[2][\"Local\"]=\"London\"\n",
        "print(info)"
      ],
      "metadata": {
        "colab": {
          "base_uri": "https://localhost:8080/"
        },
        "id": "muEJTEtLhfKJ",
        "outputId": "b39aa6c4-915e-4202-d18f-729d635ac7f7"
      },
      "execution_count": null,
      "outputs": [
        {
          "output_type": "stream",
          "name": "stdout",
          "text": [
            "[{'Name': 'Silberhand', 'Local': 'Night City', 'Age': 120, 'Usename': 'Johnny'}, {'Name': 'John Doe', 'Local': 'CA, USA', 'Age': 40, 'Usename': 'Doh'}, {'Name': 'Jane Doe', 'Local': 'Seoul City', 'Age': 24, 'Usename': 'jane-doe'}, {'Name': 'Foo Bar', 'Local': 'Busan City', 'Age': 31, 'Usename': 'foo-bar'}]\n",
            "[{'Name': 'Silberhand', 'Local': 'Night City', 'Age': 120, 'Usename': 'Johnny'}, {'Name': 'John Doe', 'Local': 'CA, USA', 'Age': 40, 'Usename': 'Doh'}, {'Name': 'Jane Doe', 'Local': 'London', 'Age': 24, 'Usename': 'jane-doe'}, {'Name': 'Foo Bar', 'Local': 'Busan City', 'Age': 31, 'Usename': 'foo-bar'}]\n"
          ]
        }
      ]
    },
    {
      "cell_type": "code",
      "source": [
        "print(info[0].get(\"Local\"))"
      ],
      "metadata": {
        "colab": {
          "base_uri": "https://localhost:8080/"
        },
        "id": "0xXTQgiAkBwL",
        "outputId": "8f982271-e3f7-4522-b332-20d5698cf8d3"
      },
      "execution_count": null,
      "outputs": [
        {
          "output_type": "stream",
          "name": "stdout",
          "text": [
            "Night City\n"
          ]
        }
      ]
    },
    {
      "cell_type": "code",
      "source": [
        "info[0].keys()\n",
        "info[0].items()"
      ],
      "metadata": {
        "colab": {
          "base_uri": "https://localhost:8080/"
        },
        "id": "KDgjmR7J3Ywb",
        "outputId": "2b4a6bbd-dcba-404e-ab9f-257cc38abff6"
      },
      "execution_count": null,
      "outputs": [
        {
          "output_type": "execute_result",
          "data": {
            "text/plain": [
              "dict_items([('Name', 'Silberhand'), ('Local', 'Night City'), ('Age', 120), ('Usename', 'Johnny')])"
            ]
          },
          "metadata": {},
          "execution_count": 113
        }
      ]
    },
    {
      "cell_type": "markdown",
      "source": [
        "1. get price of item ==> item_price\n",
        "2. set tax rate (kor == 0.1, jap == 0.08, usa == \"depend on state\", uk == 0.2)\n",
        "3. get contry code(example: kor, jap, usa, uk) ==> contry_code\n",
        "4. tax_rate is matched price with contry_code\n",
        "5. sales tax is item_price times tax rate\n",
        "6. total price is item_price plus sales tax\n"
      ],
      "metadata": {
        "id": "wmcPqay6IIei"
      }
    },
    {
      "cell_type": "code",
      "source": [
        "# if condition:\n",
        "#   statement\n",
        "wallet = 5000\n",
        "if wallet > 4000:\n",
        "  print(\"Have some Samkim\")\n",
        "else:\n",
        "  print(\"Have some water\")"
      ],
      "metadata": {
        "colab": {
          "base_uri": "https://localhost:8080/"
        },
        "id": "L_YC8LQFIilD",
        "outputId": "d99205a1-3716-4f93-c80e-3192f2247e66"
      },
      "execution_count": null,
      "outputs": [
        {
          "output_type": "stream",
          "name": "stdout",
          "text": [
            "Have some Samkim\n"
          ]
        }
      ]
    },
    {
      "cell_type": "code",
      "source": [
        "wallet = 10000\n",
        "weather = 'rainy'\n",
        "if wallet > 8000 and weather=='rainy':\n",
        "  print(\"Have some Pamak\")\n",
        "elif wallet>8000 or weather=='cold':\n",
        "  print(\"Have some Ramyun\")\n",
        "elif wallet>5000 :\n",
        "  print(\"Have some TTeokbokki\")\n",
        "else:\n",
        "  print(\"Have some water\")"
      ],
      "metadata": {
        "colab": {
          "base_uri": "https://localhost:8080/"
        },
        "id": "plp2M08qKZAM",
        "outputId": "8999c339-1840-41ab-8aa4-75ee0c49f0e2"
      },
      "execution_count": null,
      "outputs": [
        {
          "output_type": "stream",
          "name": "stdout",
          "text": [
            "Have some Pamak\n"
          ]
        }
      ]
    },
    {
      "cell_type": "code",
      "source": [
        "\"a\" if True else \"b\""
      ],
      "metadata": {
        "colab": {
          "base_uri": "https://localhost:8080/",
          "height": 35
        },
        "id": "0d-L79LtUn4w",
        "outputId": "4d7b5ff8-99df-41f1-dcbd-86cade78f472"
      },
      "execution_count": null,
      "outputs": [
        {
          "output_type": "execute_result",
          "data": {
            "text/plain": [
              "'a'"
            ],
            "application/vnd.google.colaboratory.intrinsic+json": {
              "type": "string"
            }
          },
          "metadata": {},
          "execution_count": 124
        }
      ]
    },
    {
      "cell_type": "code",
      "source": [
        "numbers = [1,3,5,7,9]\n",
        "num = 1\n",
        "\"odd\" if num in numbers else \"even\""
      ],
      "metadata": {
        "colab": {
          "base_uri": "https://localhost:8080/",
          "height": 35
        },
        "id": "JmTztrVdLNau",
        "outputId": "af125791-4c64-4bf2-9399-6248dc9a1b05"
      },
      "execution_count": null,
      "outputs": [
        {
          "output_type": "execute_result",
          "data": {
            "text/plain": [
              "'odd'"
            ],
            "application/vnd.google.colaboratory.intrinsic+json": {
              "type": "string"
            }
          },
          "metadata": {},
          "execution_count": 126
        }
      ]
    },
    {
      "cell_type": "code",
      "source": [
        "weekdays = ['t','w','t','f']\n",
        "user_input = 'm'\n",
        "'weekday' if user_input in weekdays else \"What a lovely day\" if user_input==\"m\" else \"weekend\""
      ],
      "metadata": {
        "colab": {
          "base_uri": "https://localhost:8080/",
          "height": 35
        },
        "id": "1912zZpdVYlL",
        "outputId": "7e191367-43b7-43e8-888f-97d46f4e7dec"
      },
      "execution_count": null,
      "outputs": [
        {
          "output_type": "execute_result",
          "data": {
            "text/plain": [
              "'What a lovely day'"
            ],
            "application/vnd.google.colaboratory.intrinsic+json": {
              "type": "string"
            }
          },
          "metadata": {},
          "execution_count": 129
        }
      ]
    },
    {
      "cell_type": "code",
      "source": [
        "y=int(input(\"년도를 입력하세요\"))\n",
        "\n",
        "if (y%4==0 and y%100!=0) or y%400==0:\n",
        "  print(\"leap year\")\n",
        "else:\n",
        "  print(\"not leap year\")\n"
      ],
      "metadata": {
        "colab": {
          "base_uri": "https://localhost:8080/"
        },
        "id": "smOAqHt8Wbcl",
        "outputId": "fc9470e6-46f8-4588-d440-b190cdfc5c77"
      },
      "execution_count": null,
      "outputs": [
        {
          "output_type": "stream",
          "name": "stdout",
          "text": [
            "년도를 입력하세요1999\n",
            "not leap year\n"
          ]
        }
      ]
    },
    {
      "cell_type": "code",
      "source": [
        "list(range(1,10)) "
      ],
      "metadata": {
        "colab": {
          "base_uri": "https://localhost:8080/"
        },
        "id": "CHbhyp0acSn8",
        "outputId": "b89c9ac5-35d2-4f52-d653-91dd0bfe1b76"
      },
      "execution_count": null,
      "outputs": [
        {
          "output_type": "execute_result",
          "data": {
            "text/plain": [
              "[1, 2, 3, 4, 5, 6, 7, 8, 9]"
            ]
          },
          "metadata": {},
          "execution_count": 133
        }
      ]
    },
    {
      "cell_type": "code",
      "source": [
        "for c in \"ShinhanProDigitalAcademy\":\n",
        "  print(c,end=\" \")"
      ],
      "metadata": {
        "colab": {
          "base_uri": "https://localhost:8080/"
        },
        "id": "TxBrOwOOfq9F",
        "outputId": "b902bcc7-b818-48a4-f567-f0805f2bf0bb"
      },
      "execution_count": null,
      "outputs": [
        {
          "output_type": "stream",
          "name": "stdout",
          "text": [
            "S h i n h a n P r o D i g i t a l A c a d e m y "
          ]
        }
      ]
    },
    {
      "cell_type": "code",
      "source": [
        "for i in range(1,100+1):\n",
        "  if i%2==0 or i%3==0:\n",
        "    continue\n",
        "  elif i%17==0:\n",
        "    break\n",
        "  else:\n",
        "    print(f\"{i} is survived!!!\")\n",
        "  "
      ],
      "metadata": {
        "colab": {
          "base_uri": "https://localhost:8080/"
        },
        "id": "NLmupytdgcLf",
        "outputId": "627135d8-f610-4257-8d32-fad7e9e83635"
      },
      "execution_count": null,
      "outputs": [
        {
          "output_type": "stream",
          "name": "stdout",
          "text": [
            "1 is survived!!!\n",
            "5 is survived!!!\n",
            "7 is survived!!!\n",
            "11 is survived!!!\n",
            "13 is survived!!!\n"
          ]
        }
      ]
    },
    {
      "cell_type": "markdown",
      "source": [],
      "metadata": {
        "id": "RkSYvLUohNAi"
      }
    },
    {
      "cell_type": "code",
      "source": [
        "s=[1,2,3]\n",
        "result = ''.join(str(i) for i in s)\n",
        "print(result)"
      ],
      "metadata": {
        "colab": {
          "base_uri": "https://localhost:8080/"
        },
        "id": "I4dKibWVgyWK",
        "outputId": "355d799c-737c-4ed6-b1b3-418f1a0c9c66"
      },
      "execution_count": null,
      "outputs": [
        {
          "output_type": "stream",
          "name": "stdout",
          "text": [
            "123\n"
          ]
        }
      ]
    },
    {
      "cell_type": "code",
      "source": [
        "user_input=\"\"\n",
        "while user_input != \"taco\":\n",
        "  user_input=input(\"What do you want to have for dinner?\")\n",
        "  if user_input != \"taco\":\n",
        "    print(\"Not like that!\")\n",
        "  else:\n",
        "    print(\"That is what i wanted!!\")\n",
        "    break"
      ],
      "metadata": {
        "colab": {
          "base_uri": "https://localhost:8080/"
        },
        "id": "veUrSK32icnQ",
        "outputId": "427d0bac-2a63-4af6-d5f8-e7d347267693"
      },
      "execution_count": null,
      "outputs": [
        {
          "output_type": "stream",
          "name": "stdout",
          "text": [
            "What do you want to have for dinner?a\n",
            "Not like that!\n",
            "What do you want to have for dinner?taco\n",
            "That is what i wanted!!\n"
          ]
        }
      ]
    },
    {
      "cell_type": "code",
      "source": [
        "#dest = int(input(\"Enter some num>>\"))\n",
        "dest = 30 # for debugging\n",
        "for i in range(1,dest+1):\n",
        "  if i%15==0:\n",
        "    print(\"fizzbuzz\")\n",
        "  elif i%3==0:\n",
        "    print(\"fizz\")\n",
        "  elif i%5==0:\n",
        "    print(\"buzz\")\n",
        "  else:\n",
        "    print(i)"
      ],
      "metadata": {
        "colab": {
          "base_uri": "https://localhost:8080/"
        },
        "id": "iyW2PHzDjZrH",
        "outputId": "fde38fd9-64c9-4249-dd14-c31ab7dafc56"
      },
      "execution_count": null,
      "outputs": [
        {
          "output_type": "stream",
          "name": "stdout",
          "text": [
            "1\n",
            "2\n",
            "fizz\n",
            "4\n",
            "buzz\n",
            "fizz\n",
            "7\n",
            "8\n",
            "fizz\n",
            "buzz\n",
            "11\n",
            "fizz\n",
            "13\n",
            "14\n",
            "fizzbuzz\n",
            "16\n",
            "17\n",
            "fizz\n",
            "19\n",
            "buzz\n",
            "fizz\n",
            "22\n",
            "23\n",
            "fizz\n",
            "buzz\n",
            "26\n",
            "fizz\n",
            "28\n",
            "29\n",
            "fizzbuzz\n"
          ]
        }
      ]
    },
    {
      "cell_type": "code",
      "source": [
        "#dest = int(input(\"Enter some num>>\"))\n",
        "dest = 30 # for debugging\n",
        "for i in range(1,dest+1):\n",
        "  if i%3 == 0 or i%5==0:\n",
        "    print(\"fizz\"*(i%3==0)+\"buzz\"*(i%5==0))\n",
        "  else:\n",
        "    print(i)"
      ],
      "metadata": {
        "colab": {
          "base_uri": "https://localhost:8080/"
        },
        "id": "FDzNjbNHlG7E",
        "outputId": "523c1697-6e18-47e1-d14e-60095dbd9c14"
      },
      "execution_count": null,
      "outputs": [
        {
          "output_type": "stream",
          "name": "stdout",
          "text": [
            "1\n",
            "2\n",
            "fizz\n",
            "4\n",
            "buzz\n",
            "fizz\n",
            "7\n",
            "8\n",
            "fizz\n",
            "buzz\n",
            "11\n",
            "fizz\n",
            "13\n",
            "14\n",
            "fizzbuzz\n",
            "16\n",
            "17\n",
            "fizz\n",
            "19\n",
            "buzz\n",
            "fizz\n",
            "22\n",
            "23\n",
            "fizz\n",
            "buzz\n",
            "26\n",
            "fizz\n",
            "28\n",
            "29\n",
            "fizzbuzz\n"
          ]
        }
      ]
    },
    {
      "cell_type": "code",
      "source": [
        "#dest = int(input(\"Enter some num>>\"))\n",
        "dest = 30 # for debugging\n",
        "for i in range(1,dest+1):\n",
        "  print(\n",
        "      'fizzbuzz' if i%15==0 else\n",
        "      'fizz' if i%3==0 else\n",
        "      'buzz' if i%5==0 else\n",
        "      i\n",
        "  )"
      ],
      "metadata": {
        "colab": {
          "base_uri": "https://localhost:8080/"
        },
        "id": "t7DHCo5DokvM",
        "outputId": "29308c09-2f5c-48f9-c1a2-c50bca05ba22"
      },
      "execution_count": null,
      "outputs": [
        {
          "output_type": "stream",
          "name": "stdout",
          "text": [
            "1\n",
            "2\n",
            "fizz\n",
            "4\n",
            "buzz\n",
            "fizz\n",
            "7\n",
            "8\n",
            "fizz\n",
            "buzz\n",
            "11\n",
            "fizz\n",
            "13\n",
            "14\n",
            "fizzbuzz\n",
            "16\n",
            "17\n",
            "fizz\n",
            "19\n",
            "buzz\n",
            "fizz\n",
            "22\n",
            "23\n",
            "fizz\n",
            "buzz\n",
            "26\n",
            "fizz\n",
            "28\n",
            "29\n",
            "fizzbuzz\n"
          ]
        }
      ]
    },
    {
      "cell_type": "code",
      "source": [
        "pwd"
      ],
      "metadata": {
        "id": "x60J_No2p3zk",
        "colab": {
          "base_uri": "https://localhost:8080/",
          "height": 35
        },
        "outputId": "ac26e991-30af-4787-907e-ca1c69bcc4f8"
      },
      "execution_count": 161,
      "outputs": [
        {
          "output_type": "execute_result",
          "data": {
            "text/plain": [
              "'/content'"
            ],
            "application/vnd.google.colaboratory.intrinsic+json": {
              "type": "string"
            }
          },
          "metadata": {},
          "execution_count": 161
        }
      ]
    },
    {
      "cell_type": "code",
      "source": [],
      "metadata": {
        "id": "3UYzVcMa6gxJ"
      },
      "execution_count": null,
      "outputs": []
    }
  ]
}