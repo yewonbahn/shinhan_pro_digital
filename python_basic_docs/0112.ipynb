{
  "nbformat": 4,
  "nbformat_minor": 0,
  "metadata": {
    "colab": {
      "provenance": []
    },
    "kernelspec": {
      "name": "python3",
      "display_name": "Python 3"
    },
    "language_info": {
      "name": "python"
    }
  },
  "cells": [
    {
      "cell_type": "markdown",
      "source": [
        "Scope"
      ],
      "metadata": {
        "id": "RfgqpibCtjfX"
      }
    },
    {
      "cell_type": "code",
      "source": [
        "def outer_scope():\n",
        "  def inner_local():\n",
        "    msg=\"Shinhan\"\n",
        "  def inner_nonlocal():\n",
        "    nonlocal msg\n",
        "    msg=\"Financial\"\n",
        "  def inner_global():\n",
        "    global msg\n",
        "    msg= \"Shinhan Financial\"\n",
        "\n",
        "\n",
        "  msg = \"Seong-su\"\n",
        "  inner_local()\n",
        "  print('local',msg,id(msg))\n",
        "  inner_nonlocal()\n",
        "  print('nonlocal',msg,id(msg))\n",
        "  inner_global()\n",
        "  print('global',msg,id(msg))\n",
        "  \n",
        "outer_scope()\n",
        "print('global', msg, id(msg))"
      ],
      "metadata": {
        "colab": {
          "base_uri": "https://localhost:8080/"
        },
        "id": "sBRnHjEKtkRH",
        "outputId": "a0ee141d-9d22-438a-d7b8-b890c5b4ab76"
      },
      "execution_count": null,
      "outputs": [
        {
          "output_type": "stream",
          "name": "stdout",
          "text": [
            "local Seong-su 140532156713776\n",
            "nonlocal Financial 140532234033200\n",
            "global Financial 140532234033200\n",
            "global Shinhan Financial 140532156611440\n"
          ]
        }
      ]
    },
    {
      "cell_type": "markdown",
      "source": [
        "CLASS"
      ],
      "metadata": {
        "id": "CV8wXzx5xR1_"
      }
    },
    {
      "cell_type": "code",
      "source": [
        "# class ClassName:\n",
        "\n",
        "class Hero:\n",
        "  pass"
      ],
      "metadata": {
        "id": "q9YE7gtVxTc9"
      },
      "execution_count": null,
      "outputs": []
    },
    {
      "cell_type": "code",
      "source": [
        "IronMan = Hero()"
      ],
      "metadata": {
        "id": "bEe8npsyxYDP"
      },
      "execution_count": null,
      "outputs": []
    },
    {
      "cell_type": "code",
      "source": [
        "IronMan"
      ],
      "metadata": {
        "colab": {
          "base_uri": "https://localhost:8080/"
        },
        "id": "P--lZc2OxaUx",
        "outputId": "ecca5831-8137-410b-e14c-5af3227d1433"
      },
      "execution_count": null,
      "outputs": [
        {
          "output_type": "execute_result",
          "data": {
            "text/plain": [
              "<__main__.Hero at 0x7fd0313f3a30>"
            ]
          },
          "metadata": {},
          "execution_count": 8
        }
      ]
    },
    {
      "cell_type": "code",
      "source": [
        "SpiderMan = Hero()\n",
        "SpiderMan"
      ],
      "metadata": {
        "colab": {
          "base_uri": "https://localhost:8080/"
        },
        "id": "2UX7s8X1xbFf",
        "outputId": "b0f8fef9-94ef-49e1-cf8d-77e1a643fcf7"
      },
      "execution_count": null,
      "outputs": [
        {
          "output_type": "execute_result",
          "data": {
            "text/plain": [
              "<__main__.Hero at 0x7fd0313f35e0>"
            ]
          },
          "metadata": {},
          "execution_count": 10
        }
      ]
    },
    {
      "cell_type": "code",
      "source": [
        "Thor = Hero()"
      ],
      "metadata": {
        "id": "MQ8FgNNnxeH_"
      },
      "execution_count": null,
      "outputs": []
    },
    {
      "cell_type": "code",
      "source": [
        "class Hero: # class\n",
        "  health = 100 # class variable\n",
        "  def __init__(self, name, weapon):\n",
        "    self.name = name # instance variable\n",
        "    self.weapon = weapon\n",
        "\n",
        "  def attack(self): # instance method\n",
        "    print(f\"attack with {self.weapon}\")\n",
        "  \n",
        "IronMan = Hero('Iron Man','Impulse Gun') # instance\n",
        "IronMan.attack()"
      ],
      "metadata": {
        "colab": {
          "base_uri": "https://localhost:8080/"
        },
        "id": "DBl_6OcDxzFe",
        "outputId": "d50297a1-873a-48d5-ca7d-a3366f3efa3a"
      },
      "execution_count": null,
      "outputs": [
        {
          "output_type": "stream",
          "name": "stdout",
          "text": [
            "attack with Impulse Gun\n"
          ]
        }
      ]
    },
    {
      "cell_type": "code",
      "source": [
        "IronMan.name"
      ],
      "metadata": {
        "colab": {
          "base_uri": "https://localhost:8080/",
          "height": 35
        },
        "id": "KH9pTTSqxzMt",
        "outputId": "fbda85b1-a0ed-4abe-d470-309908ee5f3c"
      },
      "execution_count": null,
      "outputs": [
        {
          "output_type": "execute_result",
          "data": {
            "text/plain": [
              "'Iron Man'"
            ],
            "application/vnd.google.colaboratory.intrinsic+json": {
              "type": "string"
            }
          },
          "metadata": {},
          "execution_count": 15
        }
      ]
    },
    {
      "cell_type": "code",
      "source": [
        "IronMan.health"
      ],
      "metadata": {
        "colab": {
          "base_uri": "https://localhost:8080/"
        },
        "id": "iCn1MmMCy0YM",
        "outputId": "04a660bc-fe78-4c8b-d85d-6256afd77611"
      },
      "execution_count": null,
      "outputs": [
        {
          "output_type": "execute_result",
          "data": {
            "text/plain": [
              "100"
            ]
          },
          "metadata": {},
          "execution_count": 16
        }
      ]
    },
    {
      "cell_type": "code",
      "source": [
        "IronMan.weapon"
      ],
      "metadata": {
        "colab": {
          "base_uri": "https://localhost:8080/",
          "height": 35
        },
        "id": "nke0vwU-y5Jj",
        "outputId": "4800ae8a-3cf1-4ee9-9385-501ff1bb7376"
      },
      "execution_count": null,
      "outputs": [
        {
          "output_type": "execute_result",
          "data": {
            "text/plain": [
              "'Impulse Gun'"
            ],
            "application/vnd.google.colaboratory.intrinsic+json": {
              "type": "string"
            }
          },
          "metadata": {},
          "execution_count": 17
        }
      ]
    },
    {
      "cell_type": "code",
      "source": [
        "class SeeAttributes:\n",
        "  \"\"\"\n",
        "  You can see docstring\n",
        "  \"\"\"\n",
        "  integer=1024\n",
        "  def function(self):\n",
        "    return \"fastcampus\"\n",
        "LetsSee = SeeAttributes()\n",
        "LetsSee.integer\n",
        "LetsSee.function\n",
        "LetsSee.integer = 16\n",
        "dir(LetsSee)\n",
        "LetsSee.__doc__"
      ],
      "metadata": {
        "colab": {
          "base_uri": "https://localhost:8080/",
          "height": 35
        },
        "id": "1JFRYcUCy6tx",
        "outputId": "7880de51-477f-4349-cbe3-d53d60600e8c"
      },
      "execution_count": null,
      "outputs": [
        {
          "output_type": "execute_result",
          "data": {
            "text/plain": [
              "'\\n  You can see docstring\\n  '"
            ],
            "application/vnd.google.colaboratory.intrinsic+json": {
              "type": "string"
            }
          },
          "metadata": {},
          "execution_count": 20
        }
      ]
    },
    {
      "cell_type": "code",
      "source": [
        "LetsSee.integer = 16\n",
        "LetsSee.integer"
      ],
      "metadata": {
        "colab": {
          "base_uri": "https://localhost:8080/"
        },
        "id": "Nk8-ZL1LzZCs",
        "outputId": "0cfeeb38-ad01-4e73-f430-e1d206cdea9f"
      },
      "execution_count": null,
      "outputs": [
        {
          "output_type": "execute_result",
          "data": {
            "text/plain": [
              "16"
            ]
          },
          "metadata": {},
          "execution_count": 22
        }
      ]
    },
    {
      "cell_type": "code",
      "source": [
        "Hulk=Hero(\"Hulk\",\"Radioactive Fist\")\n",
        "Hulk.health = 10000\n",
        "Hulk.health"
      ],
      "metadata": {
        "colab": {
          "base_uri": "https://localhost:8080/"
        },
        "id": "wmnYcflk0KHV",
        "outputId": "b89ac4c7-597a-466a-aa9a-af0af58f9bfa"
      },
      "execution_count": null,
      "outputs": [
        {
          "output_type": "execute_result",
          "data": {
            "text/plain": [
              "10000"
            ]
          },
          "metadata": {},
          "execution_count": 23
        }
      ]
    },
    {
      "cell_type": "code",
      "source": [
        "class Hero: # class\n",
        "  health = 100 # class variable\n",
        "\n",
        "\n",
        "  def __init__(self, name, weapon):\n",
        "    self.name = name # instance variable\n",
        "    self.weapon = weapon\n",
        "    self.inventory =[]\n",
        "\n",
        "  def attack(self): # instance method\n",
        "    print(f\"attack with {self.weapon}\")\n",
        "  def save_item(self,item):\n",
        "    self.inventory.append(item)\n",
        "\n"
      ],
      "metadata": {
        "id": "lWoe3j7e04cm"
      },
      "execution_count": null,
      "outputs": []
    },
    {
      "cell_type": "code",
      "source": [
        "IronMan = Hero('Iron Man','Impulse Gun') # instance\n",
        "IronMan.inventory"
      ],
      "metadata": {
        "colab": {
          "base_uri": "https://localhost:8080/"
        },
        "id": "LZhtOXhN1knW",
        "outputId": "131baa4e-05e0-47bf-9ce6-a0d3d5723bee"
      },
      "execution_count": null,
      "outputs": [
        {
          "output_type": "execute_result",
          "data": {
            "text/plain": [
              "[]"
            ]
          },
          "metadata": {},
          "execution_count": 34
        }
      ]
    },
    {
      "cell_type": "code",
      "source": [
        "IronMan.save_item('item')"
      ],
      "metadata": {
        "id": "TLx_UntW1qMr"
      },
      "execution_count": null,
      "outputs": []
    },
    {
      "cell_type": "markdown",
      "source": [],
      "metadata": {
        "id": "oNr4a9Ae37kN"
      }
    },
    {
      "cell_type": "code",
      "source": [
        "IronMan.inventory"
      ],
      "metadata": {
        "colab": {
          "base_uri": "https://localhost:8080/"
        },
        "id": "e-t8kEKN17Vj",
        "outputId": "99dfda25-0f7b-4e93-b2f7-c1f27d3b8a91"
      },
      "execution_count": null,
      "outputs": [
        {
          "output_type": "execute_result",
          "data": {
            "text/plain": [
              "['item']"
            ]
          },
          "metadata": {},
          "execution_count": 36
        }
      ]
    },
    {
      "cell_type": "code",
      "source": [
        "\n",
        "\n",
        "\n",
        "Hulk = Hero(\"Bruce Banner\",\"Radioactive Fist\")"
      ],
      "metadata": {
        "id": "96_ADkm-19Zi"
      },
      "execution_count": null,
      "outputs": []
    },
    {
      "cell_type": "code",
      "source": [
        "Hulk.save_item(\"pants\")"
      ],
      "metadata": {
        "id": "6JPxYHvw2ExG"
      },
      "execution_count": null,
      "outputs": []
    },
    {
      "cell_type": "markdown",
      "source": [],
      "metadata": {
        "id": "PI4xOMQR363t"
      }
    },
    {
      "cell_type": "code",
      "source": [
        "Hulk.inventory ## 서로 inventory 를 공유하므로 이렇게 하면 안된다. \n"
      ],
      "metadata": {
        "colab": {
          "base_uri": "https://localhost:8080/"
        },
        "id": "YmJOqzAA2H9k",
        "outputId": "7f6edd05-51cb-4120-edec-bcf789e30c82"
      },
      "execution_count": null,
      "outputs": [
        {
          "output_type": "execute_result",
          "data": {
            "text/plain": [
              "['pants']"
            ]
          },
          "metadata": {},
          "execution_count": 39
        }
      ]
    },
    {
      "cell_type": "code",
      "source": [
        "class Hero: # class\n",
        "  health = 100 # class variable\n",
        "\n",
        "\n",
        "  def __init__(self, name, weapon):\n",
        "    self.name = name # instance variable\n",
        "    self.weapon = weapon\n",
        "    self.inventory =[]\n",
        "\n",
        "  def attack(self): # instance method\n",
        "    print(f\"attack with {self.weapon}\")\n",
        "  def save_item(self,item):\n",
        "    self.inventory.append(item)\n",
        "  def __del__(self):\n",
        "    print(\"I love u 3000\")\n",
        "  \n"
      ],
      "metadata": {
        "id": "w0QX9zw92JIp"
      },
      "execution_count": null,
      "outputs": []
    },
    {
      "cell_type": "code",
      "source": [
        "IronMan = Hero('Iron Man','Impulse Gun') # instance"
      ],
      "metadata": {
        "id": "EzoSDVpm4C-l"
      },
      "execution_count": null,
      "outputs": []
    },
    {
      "cell_type": "code",
      "source": [
        "del IronMan"
      ],
      "metadata": {
        "colab": {
          "base_uri": "https://localhost:8080/"
        },
        "id": "TsTqV4In4EvA",
        "outputId": "0472088c-74d8-4062-b8b3-fc397283c599"
      },
      "execution_count": null,
      "outputs": [
        {
          "output_type": "stream",
          "name": "stdout",
          "text": [
            "I love u 3000\n"
          ]
        }
      ]
    },
    {
      "cell_type": "code",
      "source": [
        "class Hero: # class\n",
        "  health = 100 # class variable\n",
        "\n",
        "\n",
        "  def __init__(self, name, weapon):\n",
        "    self.name = name # instance variable\n",
        "    self.weapon = weapon\n",
        "    self.inventory =[]\n",
        "  def save_item(self,item):\n",
        "    self.inventory.append(item)\n",
        "  def attack(self): # instance method\n",
        "    print(f\"attack with {self.weapon}\")\n",
        "  def save_item_multiple(self, item, num):\n",
        "    for _ in range(num):\n",
        "      self.save_item(item)\n",
        "  def __del__(self):\n",
        "    print(\"I love u 3000\")\n",
        "  "
      ],
      "metadata": {
        "id": "dReAtGDo4HUJ"
      },
      "execution_count": null,
      "outputs": []
    },
    {
      "cell_type": "code",
      "source": [
        "IronMan = Hero(\"Tony\",\"Gun\")"
      ],
      "metadata": {
        "id": "JZvEPmqtKyff"
      },
      "execution_count": null,
      "outputs": []
    },
    {
      "cell_type": "code",
      "source": [
        "IronMan.inventory"
      ],
      "metadata": {
        "colab": {
          "base_uri": "https://localhost:8080/"
        },
        "id": "HcCHhqb9K2Ic",
        "outputId": "96178935-9745-4e82-bb77-1378b433a480"
      },
      "execution_count": null,
      "outputs": [
        {
          "output_type": "execute_result",
          "data": {
            "text/plain": [
              "[]"
            ]
          },
          "metadata": {},
          "execution_count": 9
        }
      ]
    },
    {
      "cell_type": "code",
      "source": [
        "IronMan.save_item_multiple(\"money\",10)"
      ],
      "metadata": {
        "id": "aIIH-EZiK4Qr"
      },
      "execution_count": null,
      "outputs": []
    },
    {
      "cell_type": "code",
      "source": [
        "IronMan.inventory"
      ],
      "metadata": {
        "colab": {
          "base_uri": "https://localhost:8080/"
        },
        "id": "gI-M4p13K9Sq",
        "outputId": "18b01d95-db0d-4bf0-bd33-eb99bba67f00"
      },
      "execution_count": null,
      "outputs": [
        {
          "output_type": "execute_result",
          "data": {
            "text/plain": [
              "['money',\n",
              " 'money',\n",
              " 'money',\n",
              " 'money',\n",
              " 'money',\n",
              " 'money',\n",
              " 'money',\n",
              " 'money',\n",
              " 'money',\n",
              " 'money']"
            ]
          },
          "metadata": {},
          "execution_count": 11
        }
      ]
    },
    {
      "cell_type": "code",
      "source": [
        "class Hero: # class\n",
        "  health = 100 # class variable\n",
        "\n",
        "\n",
        "  def __init__(self, name, weapon):\n",
        "    self.name = name # instance variable\n",
        "    self.weapon = weapon\n",
        "    self.inventory =[]\n",
        "  def save_item(self,item):\n",
        "    self.inventory.append(item)\n",
        "  def attack(self): # instance method\n",
        "    print(f\"attack with {self.weapon}\")\n",
        "  def save_item_multiple(self, item, num):\n",
        "    for _ in range(num):\n",
        "      self.save_item(item)\n",
        "\n",
        "  def save_items(self, *items): #args 이용하면, 여러개 입력받고 튜플로 올수있음.\n",
        "    for item in items:\n",
        "      self.save_item(item)\n",
        "      print(f'{item} now has been stored to inventory')\n",
        "    \n",
        "  def __del__(self):\n",
        "    print(\"I love u 3000\")\n",
        "  "
      ],
      "metadata": {
        "id": "xJtbmKkXLFLA"
      },
      "execution_count": null,
      "outputs": []
    },
    {
      "cell_type": "code",
      "source": [
        "IronMan = Hero(\"Tony\",\"Gun\")"
      ],
      "metadata": {
        "id": "gH1cdxvXLzQk"
      },
      "execution_count": null,
      "outputs": []
    },
    {
      "cell_type": "code",
      "source": [
        "IronMan.save_items(\"Suit\",\"bullet\",\"car\",\"donut\")"
      ],
      "metadata": {
        "colab": {
          "base_uri": "https://localhost:8080/"
        },
        "id": "f6josnj2L3aJ",
        "outputId": "2e7dbd16-1251-48ec-f90f-3193068db3f3"
      },
      "execution_count": null,
      "outputs": [
        {
          "output_type": "stream",
          "name": "stdout",
          "text": [
            "Suit now has been stored to inventory\n",
            "bullet now has been stored to inventory\n",
            "car now has been stored to inventory\n",
            "donut now has been stored to inventory\n"
          ]
        }
      ]
    },
    {
      "cell_type": "code",
      "source": [
        "IronMan.inventory"
      ],
      "metadata": {
        "colab": {
          "base_uri": "https://localhost:8080/"
        },
        "id": "7HC7SRQLL55w",
        "outputId": "4de34d80-d423-4040-d7ad-9d7c678cee2e"
      },
      "execution_count": null,
      "outputs": [
        {
          "output_type": "execute_result",
          "data": {
            "text/plain": [
              "['Suit', 'bullet', 'car', 'donut']"
            ]
          },
          "metadata": {},
          "execution_count": 33
        }
      ]
    },
    {
      "cell_type": "code",
      "source": [
        "class SmartPhone:\n",
        "  def __init__(self, ap, cam):\n",
        "  # Public: Open to every class\n",
        "    self.ap = ap\n",
        "    self.cam = cam\n",
        "\n",
        "  def _jail_break(self):\n",
        "  # Protected: Open only to this or inherited from this\n",
        "    return 'jail break complete'\n",
        "    \n",
        "  def __custom_firmware(self):\n",
        "  # Private: Only this class\n",
        "    return \"You can't do this\"\n"
      ],
      "metadata": {
        "id": "eEe40WyfMH_P"
      },
      "execution_count": null,
      "outputs": []
    },
    {
      "cell_type": "code",
      "source": [
        "from random import randint\n",
        "class Elevator:\n",
        "  floor=1\n",
        "  possiblenum=0\n",
        "  peoplenum=0\n",
        "\n",
        "  def __init__(self,use_for,possiblenum,total_floor):\n",
        "    self.space=[ ]\n",
        "    self.elevator_id=randint(1,100)\n",
        "    self.use_for=use_for\n",
        "    self.possiblenum=possiblenum\n",
        "    self.total_floor=total_floor\n",
        "  def go_up(self,end,peoplenum):\n",
        "    if self.possiblenum <peoplenum+self.peoplenum:\n",
        "      print(\"더이상 탈 수 없습니다.\")\n",
        "    elif end >self.total_floor:\n",
        "      print(\"해당층은 존재하지않습니다\")\n",
        "    else:\n",
        "      self.floor=end\n",
        "      self.peoplenum+=peoplenum\n",
        "  def go_down(self,end,peoplenum):\n",
        "    if self.possiblenum <peoplenum+self.peoplenum:\n",
        "      print(\"더이상 탈 수 없습니다.\")\n",
        "    elif end>self.total_floor:\n",
        "      print(\"해당층은 존재하지않습니다\")\n",
        "    else:\n",
        "      self.floor=end\n",
        "      self.peoplenum+=peoplenum\n",
        "  def max_cap(self):\n",
        "    print(self.possiblenum)\n",
        "  def status(self):\n",
        "    print(f\"현재 {self.peoplenum}명이 엘리베이터 안에 있으며 {self.floor}층에 있습니다\")\n",
        "    if self.possiblenum <self.peoplenum:\n",
        "      print(\"만원입니다\")\n",
        "    else:\n",
        "      print(f\"{ self.possiblenum-self.peoplenum}명이 더 탈 수 있습니다\")\n",
        "\n"
      ],
      "metadata": {
        "id": "8-N4LzJDPGsT"
      },
      "execution_count": null,
      "outputs": []
    },
    {
      "cell_type": "code",
      "source": [
        "n = Elevator(\"people\",10,20)"
      ],
      "metadata": {
        "id": "6atB3FBmQ754"
      },
      "execution_count": null,
      "outputs": []
    },
    {
      "cell_type": "code",
      "source": [
        "n.go_up(100,3)"
      ],
      "metadata": {
        "colab": {
          "base_uri": "https://localhost:8080/"
        },
        "id": "8LKd7msMRAiU",
        "outputId": "9f62d55a-362a-4da9-af06-a0967080d1ea"
      },
      "execution_count": null,
      "outputs": [
        {
          "output_type": "stream",
          "name": "stdout",
          "text": [
            "해당층은 존재하지않습니다\n"
          ]
        }
      ]
    },
    {
      "cell_type": "code",
      "source": [
        "n.floor"
      ],
      "metadata": {
        "colab": {
          "base_uri": "https://localhost:8080/"
        },
        "id": "u3y0U7jlRDxR",
        "outputId": "8ca2ec80-01d9-478e-83fc-9ed9cae811cc"
      },
      "execution_count": null,
      "outputs": [
        {
          "output_type": "execute_result",
          "data": {
            "text/plain": [
              "1"
            ]
          },
          "metadata": {},
          "execution_count": 148
        }
      ]
    },
    {
      "cell_type": "code",
      "source": [
        "\n",
        "n.go_down(3,5)"
      ],
      "metadata": {
        "id": "uXuN0_RARLhy"
      },
      "execution_count": null,
      "outputs": []
    },
    {
      "cell_type": "code",
      "source": [
        "n.status()"
      ],
      "metadata": {
        "colab": {
          "base_uri": "https://localhost:8080/"
        },
        "id": "IFnb1CxHRWr3",
        "outputId": "7c7f8f50-f2a9-4605-d303-6e4d2475993d"
      },
      "execution_count": null,
      "outputs": [
        {
          "output_type": "stream",
          "name": "stdout",
          "text": [
            "현재 5명이 엘리베이터 안에 있으며 3층에 있습니다\n",
            "5명이 더 탈 수 있습니다\n"
          ]
        }
      ]
    },
    {
      "cell_type": "code",
      "source": [
        "n.go_down(4,4)"
      ],
      "metadata": {
        "id": "mF7qz5ncRZqc"
      },
      "execution_count": null,
      "outputs": []
    },
    {
      "cell_type": "code",
      "source": [
        "n.status()"
      ],
      "metadata": {
        "colab": {
          "base_uri": "https://localhost:8080/"
        },
        "id": "9lyeDvO1SKS5",
        "outputId": "6aaff501-f7aa-41ef-a632-d335b5165a83"
      },
      "execution_count": null,
      "outputs": [
        {
          "output_type": "stream",
          "name": "stdout",
          "text": [
            "현재 8명이 엘리베이터 안에 있으며 3층에 있습니다\n",
            "2명이 더 탈 수 있습니다\n"
          ]
        }
      ]
    },
    {
      "cell_type": "markdown",
      "source": [
        "# Inheritance"
      ],
      "metadata": {
        "id": "2WThwL7yZYdc"
      }
    },
    {
      "cell_type": "code",
      "source": [
        "class Fried:\n",
        "  def __init__(self,mixture,chicken):\n",
        "    self.mixture=mixture\n",
        "    self.chicken=chicken\n",
        "  def mix(self):\n",
        "    pass\n",
        "  def fry(self):\n",
        "    print(\"Chicken is now frying....\")\n",
        "\n",
        "\n",
        "class Seasoned(Fried):\n",
        "  def __init__(self,mixture,chicken,sauce):\n",
        "    Fried.__init__(self,mixture,chicken)\n",
        "    self.sauce=sauce\n",
        "\n",
        "  def mix(self,sauce):\n",
        "    print(\"Seasoned Chicken is now mixed..\")"
      ],
      "metadata": {
        "id": "XaG0RTHyZXj3"
      },
      "execution_count": null,
      "outputs": []
    },
    {
      "cell_type": "code",
      "source": [
        "class SmartPhone:\n",
        "  def __init__(self,ap,cam):\n",
        "    self.ap=ap\n",
        "    self.cam=cam\n",
        "  def open_ai(self):\n",
        "    print(\"i don't have feature like that\")\n",
        "  def __str__(self):\n",
        "    return f\" i am {self.__class__.__name__}\" ## 클래스이름 가져다 보여줄 수 있다. "
      ],
      "metadata": {
        "id": "xTeqnlJwcYBD"
      },
      "execution_count": null,
      "outputs": []
    },
    {
      "cell_type": "code",
      "source": [
        "SomePhone = SmartPhone('snapdragon','1MP')\n",
        "SomePhone.open_ai()"
      ],
      "metadata": {
        "colab": {
          "base_uri": "https://localhost:8080/"
        },
        "id": "vzQS2Rmkcgxh",
        "outputId": "91a466de-1253-4b9c-cac9-60de1bddb28a"
      },
      "execution_count": null,
      "outputs": [
        {
          "output_type": "stream",
          "name": "stdout",
          "text": [
            "i don't have feature like that\n"
          ]
        }
      ]
    },
    {
      "cell_type": "code",
      "source": [
        "SomePhone.__str__()"
      ],
      "metadata": {
        "colab": {
          "base_uri": "https://localhost:8080/",
          "height": 35
        },
        "id": "XdfDYgbvdKJi",
        "outputId": "dff3c034-99d1-4da9-d95d-c802f9952961"
      },
      "execution_count": null,
      "outputs": [
        {
          "output_type": "execute_result",
          "data": {
            "text/plain": [
              "' i am SmartPhone'"
            ],
            "application/vnd.google.colaboratory.intrinsic+json": {
              "type": "string"
            }
          },
          "metadata": {},
          "execution_count": 164
        }
      ]
    },
    {
      "cell_type": "code",
      "source": [
        "class IPhone(SmartPhone):\n",
        "  def __init__(self,ap,cam,auth):\n",
        "    SmartPhone.__init__(self,ap,cam)\n",
        "    self.auth= auth\n",
        "  def open_ai(self):\n",
        "    print(\"Hey, Siri!\")\n",
        "  def __str__(self):\n",
        "    return super(IPhone, self).__str__()\n",
        "\n",
        "  "
      ],
      "metadata": {
        "id": "W497fdmZdJsi"
      },
      "execution_count": null,
      "outputs": []
    },
    {
      "cell_type": "code",
      "source": [
        "IPhone14 = IPhone(\"A14\",\"13MP\",\"FaceID\")"
      ],
      "metadata": {
        "id": "Wa16DdkKdIO1"
      },
      "execution_count": null,
      "outputs": []
    },
    {
      "cell_type": "code",
      "source": [
        "IPhone14.open_ai()"
      ],
      "metadata": {
        "colab": {
          "base_uri": "https://localhost:8080/"
        },
        "id": "Gr2iBEUxfX1E",
        "outputId": "9101de9f-aa2b-436c-ab18-d82a62ac5713"
      },
      "execution_count": null,
      "outputs": [
        {
          "output_type": "stream",
          "name": "stdout",
          "text": [
            "Hey, Siri!\n"
          ]
        }
      ]
    },
    {
      "cell_type": "code",
      "source": [
        "class Galaxy(SmartPhone):\n",
        "  def __init__(self,ap,cam,contactless_payment):\n",
        "    super(Galaxy,self).__init__(ap,cam)\n",
        "    self.contactless_payment=contactless_payment\n",
        "  def open_ai(self):\n",
        "    print(\"Hey, bixby!\")\n",
        "  def __str__(self):\n",
        "    return super(Galaxy, self).__str__()\n",
        "\n"
      ],
      "metadata": {
        "id": "muGZmMSveXXr"
      },
      "execution_count": null,
      "outputs": []
    },
    {
      "cell_type": "code",
      "source": [
        "Galaxy23 = Galaxy(\"Huminbird\",\"40MP\",\"Samsung pay\")\n",
        "Galaxy23.ap"
      ],
      "metadata": {
        "colab": {
          "base_uri": "https://localhost:8080/",
          "height": 35
        },
        "id": "voH53U_UfV8U",
        "outputId": "3075e32a-c870-4fd3-eca7-9cda9fb3d151"
      },
      "execution_count": null,
      "outputs": [
        {
          "output_type": "execute_result",
          "data": {
            "text/plain": [
              "'Huminbird'"
            ],
            "application/vnd.google.colaboratory.intrinsic+json": {
              "type": "string"
            }
          },
          "metadata": {},
          "execution_count": 185
        }
      ]
    },
    {
      "cell_type": "code",
      "source": [
        "Galaxy23.open_ai()"
      ],
      "metadata": {
        "colab": {
          "base_uri": "https://localhost:8080/"
        },
        "id": "qkiRVZCYgMm4",
        "outputId": "8f5546c0-fafd-479a-96ee-d5d92d3404fc"
      },
      "execution_count": null,
      "outputs": [
        {
          "output_type": "stream",
          "name": "stdout",
          "text": [
            "Hey, bixby!\n"
          ]
        }
      ]
    },
    {
      "cell_type": "code",
      "source": [
        "class Car:\n",
        "  def __init__(self,color,cost):\n",
        "    self.color=color\n",
        "    self.cost=cost\n",
        "  def __str__(self):\n",
        "    return f\" i am {self.__class__.__name__}\" ## 클래스이름 가져다 보여줄 수 있다. \n",
        "\n",
        "\n",
        "class Benz(Car):\n",
        "  def __init__(self,color,cost,auto):\n",
        "    super(Benz,self).__init__(color,cost)\n",
        "    self.auto=auto \n",
        "  def __str__(self):\n",
        "    return super(Benz, self).__str__()"
      ],
      "metadata": {
        "id": "1FXxsMEKgWDn"
      },
      "execution_count": null,
      "outputs": []
    },
    {
      "cell_type": "code",
      "source": [
        "Benz_s = Benz(\"black\",\"$1000\",\"yes\")"
      ],
      "metadata": {
        "id": "h72kp3zPh3lt"
      },
      "execution_count": null,
      "outputs": []
    },
    {
      "cell_type": "code",
      "source": [
        "Benz_s.color"
      ],
      "metadata": {
        "colab": {
          "base_uri": "https://localhost:8080/",
          "height": 35
        },
        "id": "USU6raMUh9om",
        "outputId": "259954a7-937a-4686-fd5d-8a754b6975f2"
      },
      "execution_count": null,
      "outputs": [
        {
          "output_type": "execute_result",
          "data": {
            "text/plain": [
              "'black'"
            ],
            "application/vnd.google.colaboratory.intrinsic+json": {
              "type": "string"
            }
          },
          "metadata": {},
          "execution_count": 193
        }
      ]
    },
    {
      "cell_type": "code",
      "source": [
        "Benz_s.auto"
      ],
      "metadata": {
        "colab": {
          "base_uri": "https://localhost:8080/",
          "height": 35
        },
        "id": "aP_TbHdJiH-1",
        "outputId": "02926e28-a284-49d2-d409-3c6a93a3c52b"
      },
      "execution_count": null,
      "outputs": [
        {
          "output_type": "execute_result",
          "data": {
            "text/plain": [
              "'yes'"
            ],
            "application/vnd.google.colaboratory.intrinsic+json": {
              "type": "string"
            }
          },
          "metadata": {},
          "execution_count": 194
        }
      ]
    },
    {
      "cell_type": "code",
      "source": [
        "class AP:\n",
        "  pass\n",
        "class Cam:\n",
        "  pass\n",
        "class SmartPhone:\n",
        "  def __init__(self):\n",
        "    self.ap=AP()\n",
        "    self.cam = Cam()"
      ],
      "metadata": {
        "id": "uyp6D1QNiJTT"
      },
      "execution_count": null,
      "outputs": []
    },
    {
      "cell_type": "code",
      "source": [
        "class Hammer:\n",
        "  def __init__(self,name):\n",
        "    self.name=name\n",
        "  def fly(self):\n",
        "    print(f\"Now {self.name} can fly..\")\n",
        "  def shoot_lightning(self):\n",
        "    pass\n",
        "class Thor:\n",
        "  def __init__(self):\n",
        "    self.weapon=None\n",
        "  def recall_hammer(self,weapon):\n",
        "    self.weapon = weapon\n",
        "  def throw_hammer(self):\n",
        "    weapon=self.weapon\n",
        "    self.weapon = None\n",
        "    return weapon\n",
        "  def fly(self):\n",
        "    if self.weapon:\n",
        "      self.weapon.fly()\n",
        "    else:\n",
        "      print(\"You can't do this\")"
      ],
      "metadata": {
        "id": "oM6Z5JyamQNN"
      },
      "execution_count": null,
      "outputs": []
    },
    {
      "cell_type": "code",
      "source": [
        "Thor=Thor()"
      ],
      "metadata": {
        "id": "U7kHmrvGmeI2"
      },
      "execution_count": null,
      "outputs": []
    },
    {
      "cell_type": "code",
      "source": [
        "Thor.fly()"
      ],
      "metadata": {
        "colab": {
          "base_uri": "https://localhost:8080/"
        },
        "id": "LI7SsYhEoMUL",
        "outputId": "03b62fd8-b9e7-48cc-aca4-9f658d412fb3"
      },
      "execution_count": null,
      "outputs": [
        {
          "output_type": "stream",
          "name": "stdout",
          "text": [
            "You can't do this\n"
          ]
        }
      ]
    },
    {
      "cell_type": "code",
      "source": [
        "molnir=Hammer('molnir')\n",
        "Thor.recall_hammer(molnir)"
      ],
      "metadata": {
        "id": "jTElRJr2oTCF"
      },
      "execution_count": null,
      "outputs": []
    },
    {
      "cell_type": "code",
      "source": [
        "Thor.fly()"
      ],
      "metadata": {
        "colab": {
          "base_uri": "https://localhost:8080/"
        },
        "id": "jotlA1XQncRl",
        "outputId": "9c3dd924-c7f0-40f1-e919-81585d471cc4"
      },
      "execution_count": null,
      "outputs": [
        {
          "output_type": "stream",
          "name": "stdout",
          "text": [
            "Now molnir can fly..\n"
          ]
        }
      ]
    },
    {
      "cell_type": "code",
      "source": [
        "Thor.throw_hammer()"
      ],
      "metadata": {
        "colab": {
          "base_uri": "https://localhost:8080/"
        },
        "id": "at1VIhUzndup",
        "outputId": "e5ca8b1a-2e77-4462-d4ba-b83d6e4d19c4"
      },
      "execution_count": null,
      "outputs": [
        {
          "output_type": "execute_result",
          "data": {
            "text/plain": [
              "<__main__.Hammer at 0x7ff021afcbe0>"
            ]
          },
          "metadata": {},
          "execution_count": 220
        }
      ]
    },
    {
      "cell_type": "code",
      "source": [
        "Thor.fly()"
      ],
      "metadata": {
        "colab": {
          "base_uri": "https://localhost:8080/"
        },
        "id": "GIDsR-taoZyT",
        "outputId": "aaecbed3-58ae-4f12-cfff-cd5a15dc2d3a"
      },
      "execution_count": null,
      "outputs": [
        {
          "output_type": "stream",
          "name": "stdout",
          "text": [
            "You can't do this\n"
          ]
        }
      ]
    },
    {
      "cell_type": "code",
      "source": [
        "from random import randint\n",
        "class Human :\n",
        "  def __init__(self,weight,height):\n",
        "    self.weight=weight\n",
        "    self.height=height\n",
        "  def __str__(self):\n",
        "    return f\" i am {self.__class__.__name__}\" \n",
        "\n",
        "\n",
        "class User(Human):\n",
        "  num=0\n",
        "  def __init__(self,weight,height):\n",
        "    super(User,self).__init__(weight,height)\n",
        "    firstcard=randint(1,10)\n",
        "    secondcard=randint(1,10)\n",
        "    self.num=firstcard+secondcard\n",
        "\n",
        "  def get_card(self,num):\n",
        "    self.num+=num\n",
        "  def status(self):\n",
        "    print(f\"total num: {self.num}\")\n",
        "    if self.num>21 or self.num<15 :\n",
        "      print(\"fail\")\n",
        "    else:\n",
        "      print(\"success\")\n",
        "  def __str__(self):\n",
        "    return super(Benz, self).__str__()"
      ],
      "metadata": {
        "id": "7ZjdIl5SobZA"
      },
      "execution_count": null,
      "outputs": []
    },
    {
      "cell_type": "code",
      "source": [
        "user1 = User(50,170)"
      ],
      "metadata": {
        "id": "7b_2NdQwp3sh"
      },
      "execution_count": null,
      "outputs": []
    },
    {
      "cell_type": "code",
      "source": [
        "user1.get_card(10)"
      ],
      "metadata": {
        "id": "LdfyLQQNp9Se"
      },
      "execution_count": null,
      "outputs": []
    },
    {
      "cell_type": "code",
      "source": [
        "user1.status()"
      ],
      "metadata": {
        "colab": {
          "base_uri": "https://localhost:8080/"
        },
        "id": "64qThg05qUL4",
        "outputId": "eb729a85-0a2c-415e-877a-044727b08b20"
      },
      "execution_count": null,
      "outputs": [
        {
          "output_type": "stream",
          "name": "stdout",
          "text": [
            "total num: 18\n",
            "success\n"
          ]
        }
      ]
    },
    {
      "cell_type": "code",
      "source": [
        "class Language:\n",
        "  mother_lang=\"Spanish\"\n",
        "  \n",
        "  def __init__(self):\n",
        "    self.talk = f\"I can't speak {self.mother_lang}\"\n",
        "\n",
        "  @classmethod\n",
        "  def talk_class_method(cls):\n",
        "    return cls()\n",
        "\n",
        "  @staticmethod\n",
        "  def talk_staic_method():\n",
        "     return Language()\n",
        "    \n",
        "  def tell_lang(self):\n",
        "      return (self.talk)\n",
        "  \n",
        "class English(Language):\n",
        "  mother_lang=\"English\""
      ],
      "metadata": {
        "id": "F1cCA1VmqXgc"
      },
      "execution_count": null,
      "outputs": []
    },
    {
      "cell_type": "code",
      "source": [
        "lan =  English()"
      ],
      "metadata": {
        "id": "WSZXsSaXtS3X"
      },
      "execution_count": null,
      "outputs": []
    },
    {
      "cell_type": "code",
      "source": [],
      "metadata": {
        "id": "abo5UAJAzsBt"
      },
      "execution_count": null,
      "outputs": []
    },
    {
      "cell_type": "code",
      "source": [
        "!pip install requests"
      ],
      "metadata": {
        "colab": {
          "base_uri": "https://localhost:8080/"
        },
        "id": "2XISIReYycyk",
        "outputId": "4ce7f4e7-fd54-4452-9c40-2e3d53665d1d"
      },
      "execution_count": null,
      "outputs": [
        {
          "output_type": "stream",
          "name": "stdout",
          "text": [
            "Looking in indexes: https://pypi.org/simple, https://us-python.pkg.dev/colab-wheels/public/simple/\n",
            "Requirement already satisfied: requests in /usr/local/lib/python3.8/dist-packages (2.25.1)\n",
            "Requirement already satisfied: idna<3,>=2.5 in /usr/local/lib/python3.8/dist-packages (from requests) (2.10)\n",
            "Requirement already satisfied: urllib3<1.27,>=1.21.1 in /usr/local/lib/python3.8/dist-packages (from requests) (1.24.3)\n",
            "Requirement already satisfied: chardet<5,>=3.0.2 in /usr/local/lib/python3.8/dist-packages (from requests) (4.0.0)\n",
            "Requirement already satisfied: certifi>=2017.4.17 in /usr/local/lib/python3.8/dist-packages (from requests) (2022.12.7)\n"
          ]
        }
      ]
    },
    {
      "cell_type": "code",
      "source": [
        "import requests\n",
        "response = requests.get(\"https://www.google.com\")\n",
        "response.status_code"
      ],
      "metadata": {
        "colab": {
          "base_uri": "https://localhost:8080/"
        },
        "id": "xXY1U9_m3G2q",
        "outputId": "31109b0e-24a8-4369-a6f4-10c7415bbde6"
      },
      "execution_count": null,
      "outputs": [
        {
          "output_type": "execute_result",
          "data": {
            "text/plain": [
              "200"
            ]
          },
          "metadata": {},
          "execution_count": 270
        }
      ]
    },
    {
      "cell_type": "code",
      "source": [
        "response.text"
      ],
      "metadata": {
        "colab": {
          "base_uri": "https://localhost:8080/",
          "height": 181
        },
        "id": "a4zIY1mW3PH5",
        "outputId": "4d3c5d0d-e921-43ef-f17d-3cfbf7740d4a"
      },
      "execution_count": null,
      "outputs": [
        {
          "output_type": "execute_result",
          "data": {
            "text/plain": [
              "'<!doctype html><html itemscope=\"\" itemtype=\"http://schema.org/WebPage\" lang=\"nl\"><head><meta content=\"text/html; charset=UTF-8\" http-equiv=\"Content-Type\"><meta content=\"/images/branding/googleg/1x/googleg_standard_color_128dp.png\" itemprop=\"image\"><title>Google</title><script nonce=\"5FWvMIVHgIZDU32SLwr6_A\">(function(){window.google={kEI:\\'g7W_Y4-yB8io9u8P0ue6-A8\\',kEXPI:\\'0,1359409,6059,206,4804,2316,383,246,5,1129120,1197729,777,379985,16114,28684,22431,1361,12313,17586,4998,13228,3847,10622,22741,2855,2226,1593,1279,2742,149,1103,840,1983,4314,4120,2023,2297,14670,3229,2843,7,4774,825,23475,4696,1851,15756,3,346,230,6460,148,13975,4,1528,2304,27348,7422,7357,13658,21223,5818,2539,4094,4052,3,3541,1,42154,2,14022,25739,5679,1020,14866,16257,4567,6259,23418,1252,5835,14968,4332,7484,25076,2006,8155,6682,699,15969,873,19636,5,1354,568,5784,3995,19130,2260,9932,4832,8311,14878,3315,5796,8,14428,3890,751,14144,1421,1057,565,1748,30,3852,1125,8990,5901,1183,558,2906,1768,914,22,565,565,719,272,781,610,1144,495,427,1033,333,2669,669,55,143,12,770,1410,20,3,260,607,136,2125,289,922,763,951,843,1376,947,315,41,501,449,2,3221,1211,1035,865,770,206,1456,1252,5,445,1204,88,20,462,219,84,129,99,134,447,3,179,228,1161,1438,61,3641,558,1125,793,528,399,445,536,1018,358,155,405,421,2045,321,9,1061,1772,28,4,13,209,2,358,131,66,764,35,184,1611,107,240,499,128,391,234,222,462,671,11,154,669,80,684,254,214,1304,712,5271213,101,267,61,7,5995509,2803334,3311,141,795,19735,1,1,348,3654,32,77,23647530,299189,2770168,1271975,1964,1008,15664,3406,5595,11,3834,7198\\',kBL:\\'0vWo\\'};google.sn=\\'webhp\\';google.kHL=\\'nl\\';})();(function(){\\nvar f=this||self;var h,k=[];function l(a){for(var b;a&&(!a.getAttribute||!(b=a.getAttribute(\"eid\")));)a=a.parentNode;return b||h}function m(a){for(var b=null;a&&(!a.getAttribute||!(b=a.getAttribute(\"leid\")));)a=a.parentNode;return b}\\nfunction n(a,b,c,d,g){var e=\"\";c||-1!==b.search(\"&ei=\")||(e=\"&ei=\"+l(d),-1===b.search(\"&lei=\")&&(d=m(d))&&(e+=\"&lei=\"+d));d=\"\";!c&&f._cshid&&-1===b.search(\"&cshid=\")&&\"slh\"!==a&&(d=\"&cshid=\"+f._cshid);c=c||\"/\"+(g||\"gen_204\")+\"?atyp=i&ct=\"+a+\"&cad=\"+b+e+\"&zx=\"+Date.now()+d;/^http:/i.test(c)&&\"https:\"===window.location.protocol&&(google.ml&&google.ml(Error(\"a\"),!1,{src:c,glmm:1}),c=\"\");return c};h=google.kEI;google.getEI=l;google.getLEI=m;google.ml=function(){return null};google.log=function(a,b,c,d,g){if(c=n(a,b,c,d,g)){a=new Image;var e=k.length;k[e]=a;a.onerror=a.onload=a.onabort=function(){delete k[e]};a.src=c}};google.logUrl=n;}).call(this);(function(){google.y={};google.sy=[];google.x=function(a,b){if(a)var c=a.id;else{do c=Math.random();while(google.y[c])}google.y[c]=[a,b];return!1};google.sx=function(a){google.sy.push(a)};google.lm=[];google.plm=function(a){google.lm.push.apply(google.lm,a)};google.lq=[];google.load=function(a,b,c){google.lq.push([[a],b,c])};google.loadAll=function(a,b){google.lq.push([a,b])};google.bx=!1;google.lx=function(){};}).call(this);google.f={};(function(){\\ndocument.documentElement.addEventListener(\"submit\",function(b){var a;if(a=b.target){var c=a.getAttribute(\"data-submitfalse\");a=\"1\"===c||\"q\"===c&&!a.elements.q.value?!0:!1}else a=!1;a&&(b.preventDefault(),b.stopPropagation())},!0);document.documentElement.addEventListener(\"click\",function(b){var a;a:{for(a=b.target;a&&a!==document.documentElement;a=a.parentElement)if(\"A\"===a.tagName){a=\"1\"===a.getAttribute(\"data-nohref\");break a}a=!1}a&&b.preventDefault()},!0);}).call(this);</script><style>#gbar,#guser{font-size:13px;padding-top:1px !important;}#gbar{height:22px}#guser{padding-bottom:7px !important;text-align:right}.gbh,.gbd{border-top:1px solid #c9d7f1;font-size:1px}.gbh{height:0;position:absolute;top:24px;width:100%}@media all{.gb1{height:22px;margin-right:.5em;vertical-align:top}#gbar{float:left}}a.gb1,a.gb4{text-decoration:underline !important}a.gb1,a.gb4{color:#00c !important}.gbi .gb4{color:#dd8e27 !important}.gbf .gb4{color:#900 !important}\\n</style><style>body,td,a,p,.h{font-family:arial,sans-serif}body{margin:0;overflow-y:scroll}#gog{padding:3px 8px 0}td{line-height:.8em}.gac_m td{line-height:17px}form{margin-bottom:20px}.h{color:#1558d6}em{font-weight:bold;font-style:normal}.lst{height:25px;width:496px}.gsfi,.lst{font:18px arial,sans-serif}.gsfs{font:17px arial,sans-serif}.ds{display:inline-box;display:inline-block;margin:3px 0 4px;margin-left:4px}input{font-family:inherit}body{background:#fff;color:#000}a{color:#4b11a8;text-decoration:none}a:hover,a:active{text-decoration:underline}.fl a{color:#1558d6}a:visited{color:#4b11a8}.sblc{padding-top:5px}.sblc a{display:block;margin:2px 0;margin-left:13px;font-size:11px}.lsbb{background:#f8f9fa;border:solid 1px;border-color:#dadce0 #70757a #70757a #dadce0;height:30px}.lsbb{display:block}#WqQANb a{display:inline-block;margin:0 12px}.lsb{background:url(/images/nav_logo229.png) 0 -261px repeat-x;border:none;color:#000;cursor:pointer;height:30px;margin:0;outline:0;font:15px arial,sans-serif;vertical-align:top}.lsb:active{background:#dadce0}.lst:focus{outline:none}</style><script nonce=\"5FWvMIVHgIZDU32SLwr6_A\">(function(){window.google.erd={jsr:1,bv:1722,de:true};\\nvar h=this||self;var k,l=null!=(k=h.mei)?k:1,n,p=null!=(n=h.sdo)?n:!0,q=0,r,t=google.erd,v=t.jsr;google.ml=function(a,b,d,m,e){e=void 0===e?2:e;b&&(r=a&&a.message);if(google.dl)return google.dl(a,e,d),null;if(0>v){window.console&&console.error(a,d);if(-2===v)throw a;b=!1}else b=!a||!a.message||\"Error loading script\"===a.message||q>=l&&!m?!1:!0;if(!b)return null;q++;d=d||{};b=encodeURIComponent;var c=\"/gen_204?atyp=i&ei=\"+b(google.kEI);google.kEXPI&&(c+=\"&jexpid=\"+b(google.kEXPI));c+=\"&srcpg=\"+b(google.sn)+\"&jsr=\"+b(t.jsr)+\"&bver=\"+b(t.bv);var f=a.lineNumber;void 0!==f&&(c+=\"&line=\"+f);var g=\\na.fileName;g&&(0<g.indexOf(\"-extension:/\")&&(e=3),c+=\"&script=\"+b(g),f&&g===window.location.href&&(f=document.documentElement.outerHTML.split(\"\\\\n\")[f],c+=\"&cad=\"+b(f?f.substring(0,300):\"No script found.\")));c+=\"&jsel=\"+e;for(var u in d)c+=\"&\",c+=b(u),c+=\"=\",c+=b(d[u]);c=c+\"&emsg=\"+b(a.name+\": \"+a.message);c=c+\"&jsst=\"+b(a.stack||\"N/A\");12288<=c.length&&(c=c.substr(0,12288));a=c;m||google.log(0,\"\",a);return a};window.onerror=function(a,b,d,m,e){r!==a&&(a=e instanceof Error?e:Error(a),void 0===d||\"lineNumber\"in a||(a.lineNumber=d),void 0===b||\"fileName\"in a||(a.fileName=b),google.ml(a,!1,void 0,!1,\"SyntaxError\"===a.name||\"SyntaxError\"===a.message.substring(0,11)||-1!==a.message.indexOf(\"Script error\")?3:0));r=null;p&&q>=l&&(window.onerror=null)};})();</script></head><body bgcolor=\"#fff\"><script nonce=\"5FWvMIVHgIZDU32SLwr6_A\">(function(){var src=\\'/images/nav_logo229.png\\';var iesg=false;document.body.onload = function(){window.n && window.n();if (document.images){new Image().src=src;}\\nif (!iesg){document.f&&document.f.q.focus();document.gbqf&&document.gbqf.q.focus();}\\n}\\n})();</script><div id=\"mngb\"><div id=gbar><nobr><b class=gb1>Zoeken</b> <a class=gb1 href=\"https://www.google.nl/imghp?hl=nl&tab=wi\">Afbeeldingen</a> <a class=gb1 href=\"https://maps.google.nl/maps?hl=nl&tab=wl\">Maps</a> <a class=gb1 href=\"https://play.google.com/?hl=nl&tab=w8\">Play</a> <a class=gb1 href=\"https://www.youtube.com/?tab=w1\">YouTube</a> <a class=gb1 href=\"https://news.google.com/?tab=wn\">Nieuws</a> <a class=gb1 href=\"https://mail.google.com/mail/?tab=wm\">Gmail</a> <a class=gb1 href=\"https://drive.google.com/?tab=wo\">Drive</a> <a class=gb1 style=\"text-decoration:none\" href=\"https://www.google.nl/intl/nl/about/products?tab=wh\"><u>Meer</u> &raquo;</a></nobr></div><div id=guser width=100%><nobr><span id=gbn class=gbi></span><span id=gbf class=gbf></span><span id=gbe></span><a href=\"http://www.google.nl/history/optout?hl=nl\" class=gb4>Webgeschiedenis</a> | <a  href=\"/preferences?hl=nl\" class=gb4>Instellingen</a> | <a target=_top id=gb_70 href=\"https://accounts.google.com/ServiceLogin?hl=nl&passive=true&continue=https://www.google.com/&ec=GAZAAQ\" class=gb4>Inloggen</a></nobr></div><div class=gbh style=left:0></div><div class=gbh style=right:0></div></div><center><br clear=\"all\" id=\"lgpd\"><div id=\"lga\"><img alt=\"Google\" height=\"92\" src=\"/images/branding/googlelogo/1x/googlelogo_white_background_color_272x92dp.png\" style=\"padding:28px 0 14px\" width=\"272\" id=\"hplogo\"><br><br></div><form action=\"/search\" name=\"f\"><table cellpadding=\"0\" cellspacing=\"0\"><tr valign=\"top\"><td width=\"25%\">&nbsp;</td><td align=\"center\" nowrap=\"\"><input name=\"ie\" value=\"ISO-8859-1\" type=\"hidden\"><input value=\"nl\" name=\"hl\" type=\"hidden\"><input name=\"source\" type=\"hidden\" value=\"hp\"><input name=\"biw\" type=\"hidden\"><input name=\"bih\" type=\"hidden\"><div class=\"ds\" style=\"height:32px;margin:4px 0\"><input class=\"lst\" style=\"margin:0;padding:5px 8px 0 6px;vertical-align:top;color:#000\" autocomplete=\"off\" value=\"\" title=\"Google Zoeken\" maxlength=\"2048\" name=\"q\" size=\"57\"></div><br style=\"line-height:0\"><span class=\"ds\"><span class=\"lsbb\"><input class=\"lsb\" value=\"Google Zoeken\" name=\"btnG\" type=\"submit\"></span></span><span class=\"ds\"><span class=\"lsbb\"><input class=\"lsb\" id=\"tsuid_1\" value=\"Ik doe een gok\" name=\"btnI\" type=\"submit\"><script nonce=\"5FWvMIVHgIZDU32SLwr6_A\">(function(){var id=\\'tsuid_1\\';document.getElementById(id).onclick = function(){if (this.form.q.value){this.checked = 1;if (this.form.iflsig)this.form.iflsig.disabled = false;}\\nelse top.location=\\'/doodles/\\';};})();</script><input value=\"AK50M_UAAAAAY7_Dk0YwpsS3zVIl5gqCGZI9jsYIvhx_\" name=\"iflsig\" type=\"hidden\"></span></span></td><td class=\"fl sblc\" align=\"left\" nowrap=\"\" width=\"25%\"><a href=\"/advanced_search?hl=nl&amp;authuser=0\">Geavanceerd zoeken</a></td></tr></table><input id=\"gbv\" name=\"gbv\" type=\"hidden\" value=\"1\"><script nonce=\"5FWvMIVHgIZDU32SLwr6_A\">(function(){var a,b=\"1\";if(document&&document.getElementById)if(\"undefined\"!=typeof XMLHttpRequest)b=\"2\";else if(\"undefined\"!=typeof ActiveXObject){var c,d,e=[\"MSXML2.XMLHTTP.6.0\",\"MSXML2.XMLHTTP.3.0\",\"MSXML2.XMLHTTP\",\"Microsoft.XMLHTTP\"];for(c=0;d=e[c++];)try{new ActiveXObject(d),b=\"2\"}catch(h){}}a=b;if(\"2\"==a&&-1==location.search.indexOf(\"&gbv=2\")){var f=google.gbvu,g=document.getElementById(\"gbv\");g&&(g.value=a);f&&window.setTimeout(function(){location.href=f},0)};}).call(this);</script></form><div id=\"gac_scont\"></div><div style=\"font-size:83%;min-height:3.5em\"><br><div id=\"gws-output-pages-elements-homepage_additional_languages__als\"><style>#gws-output-pages-elements-homepage_additional_languages__als{font-size:small;margin-bottom:24px}#SIvCob{color:#3c4043;display:inline-block;line-height:28px;}#SIvCob a{padding:0 3px;}.H6sW5{display:inline-block;margin:0 2px;white-space:nowrap}.z4hgWe{display:inline-block;margin:0 2px}</style><div id=\"SIvCob\">Google aangeboden in:  <a href=\"https://www.google.com/setprefs?sig=0_J2mh63CHJA8rAfv5XDmC2nImYBs%3D&amp;hl=fy&amp;source=homepage&amp;sa=X&amp;ved=0ahUKEwjP_5_7v8H8AhVIlP0HHdKzDv8Q2ZgBCAU\">Frysk</a>  </div></div></div><span id=\"footer\"><div style=\"font-size:10pt\"><div style=\"margin:19px auto;text-align:center\" id=\"WqQANb\"><a href=\"http://www.google.nl/intl/nl/services/\">Bedrijfsoplossingen</a><a href=\"/intl/nl/about.html\">Alles over Google</a><a href=\"https://www.google.com/setprefdomain?prefdom=NL&amp;prev=https://www.google.nl/&amp;sig=K_wOSrxxLrTu46G7M7KGcj-M4RfPk%3D\">Google.nl</a></div></div><p style=\"font-size:8pt;color:#70757a\">&copy; 2023 - <a href=\"/intl/nl/policies/privacy/\">Privacy</a> - <a href=\"/intl/nl/policies/terms/\">Voorwaarden</a></p></span></center><script nonce=\"5FWvMIVHgIZDU32SLwr6_A\">(function(){window.google.cdo={height:757,width:1440};(function(){var a=window.innerWidth,b=window.innerHeight;if(!a||!b){var c=window.document,d=\"CSS1Compat\"==c.compatMode?c.documentElement:c.body;a=d.clientWidth;b=d.clientHeight}a&&b&&(a!=google.cdo.width||b!=google.cdo.height)&&google.log(\"\",\"\",\"/client_204?&atyp=i&biw=\"+a+\"&bih=\"+b+\"&ei=\"+google.kEI);}).call(this);})();</script> <script nonce=\"5FWvMIVHgIZDU32SLwr6_A\">(function(){google.xjs={ck:\\'xjs.hp.L0TU2uVtv08.L.X.O\\',cs:\\'ACT90oFP89nXhPgbhrh-AdQldVFbm6vavw\\',excm:[]};})();</script>  <script nonce=\"5FWvMIVHgIZDU32SLwr6_A\">(function(){var u=\\'/xjs/_/js/k\\\\x3dxjs.hp.en.SwcG8wQQlgg.O/am\\\\x3dAADoBABQAGAB/d\\\\x3d1/ed\\\\x3d1/rs\\\\x3dACT90oHQ0gPKKRFaGP5cT4LAExuyN1ibpg/m\\\\x3dsb_he,d\\';var amd=0;\\nvar d=this||self,e=function(a){return a};var g;var l=function(a,b){this.g=b===h?a:\"\"};l.prototype.toString=function(){return this.g+\"\"};var h={};\\nfunction m(){var a=u;google.lx=function(){p(a);google.lx=function(){}};google.bx||google.lx()}\\nfunction p(a){google.timers&&google.timers.load&&google.tick&&google.tick(\"load\",\"xjsls\");var b=document;var c=\"SCRIPT\";\"application/xhtml+xml\"===b.contentType&&(c=c.toLowerCase());c=b.createElement(c);a=null===a?\"null\":void 0===a?\"undefined\":a;if(void 0===g){b=null;var k=d.trustedTypes;if(k&&k.createPolicy){try{b=k.createPolicy(\"goog#html\",{createHTML:e,createScript:e,createScriptURL:e})}catch(q){d.console&&d.console.error(q.message)}g=b}else g=b}a=(b=g)?b.createScriptURL(a):a;a=new l(a,h);c.src=\\na instanceof l&&a.constructor===l?a.g:\"type_error:TrustedResourceUrl\";var f,n;(f=(a=null==(n=(f=(c.ownerDocument&&c.ownerDocument.defaultView||window).document).querySelector)?void 0:n.call(f,\"script[nonce]\"))?a.nonce||a.getAttribute(\"nonce\")||\"\":\"\")&&c.setAttribute(\"nonce\",f);document.body.appendChild(c);google.psa=!0};google.xjsu=u;setTimeout(function(){0<amd?google.caft(function(){return m()},amd):m()},0);})();function _DumpException(e){throw e;}\\nfunction _F_installCss(c){}\\n(function(){google.jl={blt:\\'none\\',chnk:0,dw:false,dwu:true,emtn:0,end:0,ico:false,ikb:0,ine:false,injs:\\'none\\',injt:0,injth:0,injv2:false,lls:\\'default\\',pdt:0,rep:0,snet:true,strt:0,ubm:false,uwp:true};})();(function(){var pmc=\\'{\\\\x22d\\\\x22:{},\\\\x22sb_he\\\\x22:{\\\\x22agen\\\\x22:true,\\\\x22cgen\\\\x22:true,\\\\x22client\\\\x22:\\\\x22heirloom-hp\\\\x22,\\\\x22dh\\\\x22:true,\\\\x22ds\\\\x22:\\\\x22\\\\x22,\\\\x22fl\\\\x22:true,\\\\x22host\\\\x22:\\\\x22google.com\\\\x22,\\\\x22jsonp\\\\x22:true,\\\\x22msgs\\\\x22:{\\\\x22cibl\\\\x22:\\\\x22Zoekopdracht wissen\\\\x22,\\\\x22dym\\\\x22:\\\\x22Bedoelde je:\\\\x22,\\\\x22lcky\\\\x22:\\\\x22Ik doe een gok\\\\x22,\\\\x22lml\\\\x22:\\\\x22Meer informatie\\\\x22,\\\\x22psrc\\\\x22:\\\\x22Deze zoekopdracht is verwijderd uit je \\\\\\\\u003Ca href\\\\x3d\\\\\\\\\\\\x22/history\\\\\\\\\\\\x22\\\\\\\\u003EWebgeschiedenis\\\\\\\\u003C/a\\\\\\\\u003E\\\\x22,\\\\x22psrl\\\\x22:\\\\x22Verwijderen\\\\x22,\\\\x22sbit\\\\x22:\\\\x22Zoeken op afbeelding\\\\x22,\\\\x22srch\\\\x22:\\\\x22Google Zoeken\\\\x22},\\\\x22ovr\\\\x22:{},\\\\x22pq\\\\x22:\\\\x22\\\\x22,\\\\x22rfs\\\\x22:[],\\\\x22sbas\\\\x22:\\\\x220 3px 8px 0 rgba(0,0,0,0.2),0 0 0 1px rgba(0,0,0,0.08)\\\\x22,\\\\x22stok\\\\x22:\\\\x22LMv1PehtQ6Kzwj6_dUYzXGt8WGk\\\\x22}}\\';google.pmc=JSON.parse(pmc);})();</script>        </body></html>'"
            ],
            "application/vnd.google.colaboratory.intrinsic+json": {
              "type": "string"
            }
          },
          "metadata": {},
          "execution_count": 271
        }
      ]
    },
    {
      "cell_type": "code",
      "source": [
        "import pandas as pd"
      ],
      "metadata": {
        "id": "McSqPRyI3Txt"
      },
      "execution_count": null,
      "outputs": []
    },
    {
      "cell_type": "code",
      "source": [
        "pd.from_csv().to_json()"
      ],
      "metadata": {
        "id": "ePAC00-F30ld"
      },
      "execution_count": null,
      "outputs": []
    }
  ]
}