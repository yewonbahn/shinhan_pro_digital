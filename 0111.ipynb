{
  "nbformat": 4,
  "nbformat_minor": 0,
  "metadata": {
    "colab": {
      "provenance": []
    },
    "kernelspec": {
      "name": "python3",
      "display_name": "Python 3"
    },
    "language_info": {
      "name": "python"
    }
  },
  "cells": [
    {
      "cell_type": "markdown",
      "source": [],
      "metadata": {
        "id": "X4-mKsMA-KGB"
      }
    },
    {
      "cell_type": "code",
      "execution_count": null,
      "metadata": {
        "colab": {
          "base_uri": "https://localhost:8080/"
        },
        "id": "gBJ7I7I97T3u",
        "outputId": "5bd2ba10-1325-4374-ef38-af42c70bdbb9"
      },
      "outputs": [
        {
          "output_type": "stream",
          "name": "stdout",
          "text": [
            "enter any number(2~100): 5\n",
            "5's factorial is 120\n"
          ]
        }
      ],
      "source": [
        "#1. factorial(for statement)\n",
        "\n",
        "user_num=int(input(\"enter any number(2~100): \"))\n",
        "answer=1\n",
        "for i in range(2,user_num+1):\n",
        "  answer*=i\n",
        "print(f\"{user_num}'s factorial is {answer}\")\n"
      ]
    },
    {
      "cell_type": "code",
      "source": [
        "from math import factorial\n",
        "factorial(5)"
      ],
      "metadata": {
        "colab": {
          "base_uri": "https://localhost:8080/"
        },
        "id": "uIgN6USd--u5",
        "outputId": "f26467f9-e825-488e-dc30-2416201e70c1"
      },
      "execution_count": null,
      "outputs": [
        {
          "output_type": "execute_result",
          "data": {
            "text/plain": [
              "120"
            ]
          },
          "metadata": {},
          "execution_count": 2
        }
      ]
    },
    {
      "cell_type": "code",
      "source": [
        "result=0\n",
        "lst = [\n",
        "  [1, 0, 7, 0],\n",
        "  [0, 2, 0, 9],\n",
        "  [0, 6, 3, 7],\n",
        "  [4, 0, 5, 1],\n",
        "]\n",
        "for elem in lst:\n",
        "  for i in elem:\n",
        "    result+=i\n",
        "result\n"
      ],
      "metadata": {
        "colab": {
          "base_uri": "https://localhost:8080/"
        },
        "id": "bcVbIiUJ75nn",
        "outputId": "004c0cd6-c718-4736-dd77-066c7931fd83"
      },
      "execution_count": null,
      "outputs": [
        {
          "output_type": "execute_result",
          "data": {
            "text/plain": [
              "45"
            ]
          },
          "metadata": {},
          "execution_count": 3
        }
      ]
    },
    {
      "cell_type": "code",
      "source": [
        "sum?"
      ],
      "metadata": {
        "id": "DXUYNtN98QMh"
      },
      "execution_count": null,
      "outputs": []
    },
    {
      "cell_type": "code",
      "source": [
        "result=0\n",
        "lst = [\n",
        "  [1, 0, 7, 0],\n",
        "  [0, 2, 0, 9],\n",
        "  [0, 6, 3, 7],\n",
        "  [4, 0, 5, 1],\n",
        "]\n",
        "for elem in lst:\n",
        "  result+=sum(elem)\n",
        "print(result)\n"
      ],
      "metadata": {
        "colab": {
          "base_uri": "https://localhost:8080/"
        },
        "id": "wKs67MSmAM2F",
        "outputId": "dc7e9012-fd19-4dfb-8353-e7d77dbd7142"
      },
      "execution_count": null,
      "outputs": [
        {
          "output_type": "stream",
          "name": "stdout",
          "text": [
            "45\n"
          ]
        }
      ]
    },
    {
      "cell_type": "code",
      "source": [
        "a_words = []\n",
        "with open('./a_word_list.txt') as f:\n",
        "  textlines = f.readlines()\n",
        "  for item in textlines:\n",
        "    a_words.append(item.replace('\\n',''))\n",
        "print(a_words[:10])"
      ],
      "metadata": {
        "colab": {
          "base_uri": "https://localhost:8080/"
        },
        "id": "CYs1EECOAeuh",
        "outputId": "de09b6d1-17cf-4fa9-dd23-5c3c7ffe205b"
      },
      "execution_count": null,
      "outputs": [
        {
          "output_type": "stream",
          "name": "stdout",
          "text": [
            "['aback', 'abacus', 'abandon', 'abandoned', 'abandonment', 'abashed', 'abate', 'abbey', 'abbr.', 'abbreviate']\n"
          ]
        }
      ]
    },
    {
      "cell_type": "code",
      "source": [
        "#a_word_list.txt의 단어 길이별 갯수구하기\n",
        "len_count = {}\n",
        "for i in map(len, a_words):\n",
        "  len_count[i] = len_count.get(i,0) + 1 #i번째 값이 없다면 => 0 생성, 있다면 원래값에 +1\n",
        "print(len_count)"
      ],
      "metadata": {
        "colab": {
          "base_uri": "https://localhost:8080/"
        },
        "id": "doDSsZNWDYL7",
        "outputId": "eac956c0-41d3-4da8-f86b-916bdfb58cc7"
      },
      "execution_count": null,
      "outputs": [
        {
          "output_type": "stream",
          "name": "stdout",
          "text": [
            "{5: 67, 6: 80, 7: 85, 9: 89, 11: 47, 10: 86, 12: 25, 3: 14, 8: 96, 4: 28, 13: 15, 15: 4, 17: 1, 2: 5, 14: 12, 16: 4, 18: 1, 22: 1}\n"
          ]
        }
      ]
    },
    {
      "cell_type": "code",
      "source": [
        "len_count = {}\n",
        "for i in map(len, a_words):\n",
        "  if i in len_count:\n",
        "    len_count[i] += 1\n",
        "  else:\n",
        "    len_count[i] = 1"
      ],
      "metadata": {
        "id": "7JdOdB4nB9m9"
      },
      "execution_count": null,
      "outputs": []
    },
    {
      "cell_type": "markdown",
      "source": [],
      "metadata": {
        "id": "onKpaLexF6HY"
      }
    },
    {
      "cell_type": "code",
      "source": [
        "a_word_by_len = {}\n",
        "for word  in a_words:\n",
        "  a_word_by_len.setdefault(len(word),[]).append(word)\n",
        "print(a_word_by_len)"
      ],
      "metadata": {
        "colab": {
          "base_uri": "https://localhost:8080/"
        },
        "id": "WHCvJcZODL3r",
        "outputId": "c7bd7831-719d-4501-cea5-0b2f46e922d1"
      },
      "execution_count": null,
      "outputs": [
        {
          "output_type": "stream",
          "name": "stdout",
          "text": [
            "{5: ['aback', 'abate', 'abbey', 'abbr.', \"ABC's\", 'abhor', 'abide', 'abort', 'about', 'above', 'abuse', 'abyss', 'acorn', 'acrid', 'actor', 'acute', 'adage', 'adapt', 'adept', 'admit', 'adobe', 'adopt', 'adore', 'adorn', 'adult', 'affix', 'after', 'again', 'agent', 'agile', 'aging', 'agony', 'agree', 'ahead', \"ain't\", 'aisle', 'alarm', 'album', 'alert', 'algae', 'alias', 'alibi', 'alien', 'align', 'alike', 'alive', 'Allah', 'allay', 'alley', 'allot', 'allow', 'alloy', 'aloft', 'aloha', 'alone', 'along', 'aloof', 'aloud', 'altar', 'alter', 'amass', 'amaze', 'amber', 'amble', 'amend', 'amiss', 'among'], 6: ['abacus', 'abduct', 'abject', 'ablaze', 'aboard', 'abound', 'abroad', 'abrupt', 'absent', 'absorb', 'absurd', 'accent', 'accept', 'access', 'accord', 'accost', 'accrue', 'accuse', 'acidic', 'acquit', 'across', 'acting', 'action', 'active', 'actual', 'acumen', 'addict', 'adhere', 'ad hoc', 'adjoin', 'adjust', 'ad lib', 'ad-lib', 'admire', 'adrift', 'adroit', 'Advent', 'advent', 'adverb', 'advice', 'advise', 'aerial', 'affair', 'affect', 'affirm', 'afford', 'afloat', 'afraid', 'afresh', 'Africa', 'agency', 'agenda', 'aghast', 'agreed', 'ailing', 'airily', 'airing', 'albeit', 'albino', 'alcove', 'alight', 'alkali', 'allege', 'allied', 'allude', 'allure', 'almond', 'almost', 'alpine', 'alumna', 'alumni', 'always', 'amazed', 'ambush', 'amends', 'amidst', 'amoeba', 'amoral', 'amount', 'ampere'], 7: ['abandon', 'abashed', 'abdomen', 'abiding', 'ability', 'abolish', 'abreast', 'abridge', 'abscess', 'abscond', 'absence', 'absolve', 'abstain', 'abusive', 'abysmal', 'academy', 'acclaim', 'account', 'accused', 'accuser', 'acerbic', 'achieve', 'acidity', 'acquire', 'acrobat', 'acronym', 'acrylic', 'actress', 'acutely', 'adamant', 'adapter', 'address', 'adeptly', 'adjourn', 'adjunct', 'admiral', 'admirer', 'adopted', 'advance', 'adverse', 'adviser', 'aerobic', 'aerosol', 'affable', 'affably', 'affairs', 'afflict', 'affront', 'African', 'against', 'agility', 'agitate', 'agonize', 'ailment', 'aimless', 'air bag', 'airfare', 'airless', 'airline', 'airmail', 'airport', 'alarmed', 'alcohol', 'alfalfa', 'algebra', 'alimony', 'alleged', 'allergy', 'all-out', 'almanac', 'already', 'alright', 'alumnae', 'alumnus', 'amateur', 'amazing', 'amenity', 'America', 'amiable', 'amiably', 'ammonia', 'amnesia', 'amnesty', 'amongst', 'amorous'], 9: ['abandoned', 'abdominal', 'abduction', 'abhorrent', 'abolition', 'aborigine', 'absorbent', 'absorbing', 'abstinent', 'absurdity', 'abundance', 'abysmally', 'accessory', 'acclaimed', 'acclimate', 'accompany', 'accordion', 'acid rain', 'acoustics', 'acquiesce', 'acquittal', 'acrobatic', 'actuality', 'adamantly', 'adaptable', 'addiction', 'addictive', 'adherence', 'adjective', 'adjoining', 'admirable', 'admirably', 'admission', 'adoration', 'adornment', 'adulation', 'advantage', 'adventure', 'adverbial', 'adversary', 'adversely', 'adversity', 'advertise', 'advisable', 'aerospace', 'aesthetic', 'affection', 'affidavit', 'affiliate', 'affluence', 'afterlife', 'aftermath', 'afternoon', 'afterward', 'aggravate', 'aggressor', 'aggrieved', 'agitation', 'agonizing', 'agreeable', 'agreeably', 'agreement', 'aimlessly', 'air force', 'a la mode', 'alcoholic', 'algebraic', 'algorithm', 'alignment', 'all-clear', 'allegedly', 'alleviate', 'alligator', 'allotment', 'allowable', 'allowance', 'all right', 'alongside', 'alternate', 'amazement', 'amazingly', 'ambiguity', 'ambiguous', 'ambitious', 'ambulance', 'amendment', 'Americana', 'amorphous', 'amphibian'], 11: ['abandonment', 'able-bodied', 'abnormality', 'absenteeism', 'abstraction', 'accelerator', 'acclimation', 'accommodate', 'accompanist', 'accordingly', 'accountable', 'achievement', 'acknowledge', 'acquisition', 'acrimonious', 'across from', 'acupuncture', 'acute angle', 'adjournment', 'adjudicator', 'adolescence', 'advancement', 'adventurous', 'advertising', 'aerodynamic', 'affectation', 'affiliation', 'affirmation', 'affirmative', 'aftereffect', 'aggravating', 'aggravation', 'agnosticism', 'agonizingly', 'agriculture', 'alarm clock', 'allegorical', 'alleviation', 'altercation', 'alternately', 'alternation', 'alternative', 'ambiguously', 'ambitiously', 'ambivalence', 'Americanism', 'amphetamine'], 10: ['abbreviate', 'abdication', 'aberration', 'abhorrence', 'abnormally', 'abominable', 'aboriginal', 'about-face', 'aboveboard', 'abrasively', 'abridgment', 'abruptness', 'absolutely', 'absorption', 'abstention', 'abstinence', 'abundantly', 'accelerate', 'accentuate', 'acceptable', 'acceptably', 'acceptance', 'accessible', 'accidental', 'accomplice', 'accomplish', 'accordance', 'accountant', 'accounting', 'accredited', 'accumulate', 'accurately', 'accusation', 'accusingly', 'accustomed', 'acquainted', 'acrobatics', 'activation', 'adaptation', 'additional', 'adequately', 'adjectival', 'adjudicate', 'adjustable', 'adjustment', 'administer', 'admiration', 'admiringly', 'admissible', 'admittance', 'admittedly', 'admonition', 'adolescent', 'adrenaline', 'adulterate', 'adventurer', 'advertiser', 'aesthetics', 'affiliated', 'affliction', 'affordable', 'aftershave', 'aftershock', 'afterwards', 'aggression', 'aggressive', 'a la carte', 'alarmingly', 'alcoholism', 'alderwoman', 'alienation', 'all-around', 'allegation', 'allegiance', 'allocation', 'alma mater', 'alteration', 'altogether', 'altruistic', 'amalgamate', 'amateurish', 'ambassador', 'ambivalent', 'ameliorate', 'ammunition', 'amphibious'], 12: ['abbreviation', 'abolitionist', 'academically', 'acceleration', 'accidentally', 'accomplished', 'according to', 'accumulation', 'acknowledged', 'acquaintance', 'acquiescence', \"Adam's apple\", 'additionally', 'adulteration', 'advantageous', 'aerodynamics', 'affectionate', 'afterthought', 'aggressively', 'agricultural', 'all-American', 'alphabetical', 'amalgamation', 'ambidextrous', 'amelioration'], 3: ['ABC', 'ace', 'ACT', 'act', 'add', 'age', 'ago', 'aha', 'aid', 'aim', 'air', 'ale', 'all', 'amp'], 8: ['abdicate', 'abnormal', 'abortion', 'abortive', 'abrasive', 'abruptly', 'absentee', 'absently', 'absolute', 'absorbed', 'abstract', 'absurdly', 'abundant', 'academic', 'accented', 'accepted', 'accident', 'accolade', 'accuracy', 'accurate', 'accusing', 'accustom', 'achiever', 'acoustic', 'acquaint', 'acrimony', 'activate', 'activism', 'activist', 'activity', 'actually', 'addicted', 'addition', 'additive', 'adequacy', 'adequate', 'adherent', 'adhesion', 'adhesive', 'adjacent', 'admiring', 'admonish', 'adoption', 'adoptive', 'adorable', 'adroitly', 'adultery', 'advanced', 'advisory', 'advocacy', 'advocate', 'aerobics', 'affected', 'affinity', 'affluent', 'agitated', 'agitator', 'agnostic', 'agonized', 'air base', 'airborne', 'aircraft', 'airfield', 'airliner', 'airplane', 'air raid', 'airspace', 'airstrip', 'airtight', 'air time', 'airwaves', 'alarming', 'alarmist', 'alderman', 'alienate', 'alkaline', 'allegory', 'allergic', 'alliance', 'allocate', 'all-star', 'alluring', 'allusion', 'almighty', 'alphabet', 'although', 'altitude', 'altruism', 'aluminum', 'ambiance', 'ambition', 'amenable', 'American', 'amicable', 'amicably', 'amnesiac'], 4: ['abet', 'able', 'ably', 'ache', 'achy', 'acid', 'acne', 'acre', 'A.D.', 'afar', 'aged', 'ages', 'aide', 'AIDS', 'airs', 'airy', 'ajar', 'akin', 'alas', 'ally', 'alms', 'also', 'alto', 'A.M.', 'amen', 'amid', 'ammo', 'amok'], 13: ['absent-minded', 'acceptability', 'accessibility', 'accommodating', 'accommodation', 'accompaniment', 'accreditation', 'actualization', 'administrator', 'advertisement', 'aesthetically', 'affirmatively', 'all-inclusive', 'alternatively', 'ambassadorial'], 15: ['absent-mindedly', 'air-conditioned', 'air conditioner', 'American Indian'], 17: ['absent-mindedness'], 2: ['AC', 'ad', 'ah', 'AM', 'am'], 14: ['accident-prone', 'accommodations', 'accomplishment', 'accountability', \"Achilles' heel\", 'acknowledgment', 'administration', 'administrative', 'affectionately', 'aggressiveness', 'alphabetically', 'American dream'], 16: ['across-the-board', 'African-American', 'air conditioning', 'aircraft carrier'], 18: ['affirmative action'], 22: ['air traffic controller']}\n"
          ]
        }
      ]
    },
    {
      "cell_type": "code",
      "source": [
        "doors = [0,0,1]"
      ],
      "metadata": {
        "id": "Cidd1NKbE_jC"
      },
      "execution_count": null,
      "outputs": []
    },
    {
      "cell_type": "code",
      "source": [
        "from random import shuffle,choice\n",
        "doors = [0,0,1]\n",
        "shuffle(doors)\n",
        "doors"
      ],
      "metadata": {
        "colab": {
          "base_uri": "https://localhost:8080/"
        },
        "id": "LlWB9xvSThLd",
        "outputId": "8fed2433-ce0e-4293-e085-fc0c506928bb"
      },
      "execution_count": null,
      "outputs": [
        {
          "output_type": "execute_result",
          "data": {
            "text/plain": [
              "[0, 1, 0]"
            ]
          },
          "metadata": {},
          "execution_count": 41
        }
      ]
    },
    {
      "cell_type": "code",
      "source": [
        "choice(doors)"
      ],
      "metadata": {
        "colab": {
          "base_uri": "https://localhost:8080/"
        },
        "id": "RwJ-FcYYTjG6",
        "outputId": "6d4f81b9-7b6a-4cd8-e8a8-9cdc461d5486"
      },
      "execution_count": null,
      "outputs": [
        {
          "output_type": "execute_result",
          "data": {
            "text/plain": [
              "0"
            ]
          },
          "metadata": {},
          "execution_count": 43
        }
      ]
    },
    {
      "cell_type": "code",
      "source": [
        "from random import shuffle, choice\n",
        "\n",
        "\n",
        "result = {\n",
        "    'stay_to_win': 0,\n",
        "    'move_to_win': 0,\n",
        "}\n",
        "doors = [0,0,1] # 0: goat, 1: sports car\n",
        "\n",
        "iter_num = int(input(\"Enter some num(100-10000): \"))\n",
        "\n",
        "for _ in range(iter_num):\n",
        "    shuffle(doors)\n",
        "    #print(doors)\n",
        "    user_choice = choice(doors)\n",
        "    #print(user_choice)\n",
        "    if user_choice==0:\n",
        "        result['move_to_win'] += 1\n",
        "    else:\n",
        "        result['stay_to_win'] += 1\n",
        "\n",
        "print(\"{} times run: stay-{stay_to_win} switch-{move_to_win}\".format(iter_num, **result))"
      ],
      "metadata": {
        "colab": {
          "base_uri": "https://localhost:8080/"
        },
        "id": "7hGmBOVhTkT-",
        "outputId": "25010fb8-4306-4db9-c2ee-cf29a6b01c15"
      },
      "execution_count": null,
      "outputs": [
        {
          "output_type": "stream",
          "name": "stdout",
          "text": [
            "Enter some num(100-10000): 500\n",
            "500 times run: stay-167 switch-333\n"
          ]
        }
      ]
    },
    {
      "cell_type": "code",
      "source": [
        "def say_hello():\n",
        "  print(\"Hello world!\")\n",
        "say_hello()"
      ],
      "metadata": {
        "colab": {
          "base_uri": "https://localhost:8080/"
        },
        "id": "1u5nfbA6ib3z",
        "outputId": "7ad02df3-d887-40d3-ad21-3e22ea308d43"
      },
      "execution_count": null,
      "outputs": [
        {
          "output_type": "stream",
          "name": "stdout",
          "text": [
            "Hello world!\n"
          ]
        }
      ]
    },
    {
      "cell_type": "code",
      "source": [
        "def say_hello(username):\n",
        "  print(f\"Hello, {username}\")\n",
        "say_hello(\"yewon\")"
      ],
      "metadata": {
        "colab": {
          "base_uri": "https://localhost:8080/"
        },
        "id": "4KyYNAQbloZD",
        "outputId": "fd03c69c-d1c7-48e0-bad4-ee9a7bc20058"
      },
      "execution_count": null,
      "outputs": [
        {
          "output_type": "stream",
          "name": "stdout",
          "text": [
            "Hello, yewon\n"
          ]
        }
      ]
    },
    {
      "cell_type": "code",
      "source": [
        "def say_hello(username):\n",
        "  return f\"Hello, {username}\"\n",
        "result=say_hello(\"yewon\")\n",
        "result"
      ],
      "metadata": {
        "colab": {
          "base_uri": "https://localhost:8080/",
          "height": 35
        },
        "id": "_jyMu3lMl7lo",
        "outputId": "9db38405-2113-4fe1-b3dd-0ea7c9bd5232"
      },
      "execution_count": null,
      "outputs": [
        {
          "output_type": "execute_result",
          "data": {
            "text/plain": [
              "'Hello, yewon'"
            ],
            "application/vnd.google.colaboratory.intrinsic+json": {
              "type": "string"
            }
          },
          "metadata": {},
          "execution_count": 48
        }
      ]
    },
    {
      "cell_type": "code",
      "source": [
        "def awesum(num1,num2):\n",
        "  result=num1 + num2 + 3\n",
        "  return result \n",
        "awesum(10,12)"
      ],
      "metadata": {
        "colab": {
          "base_uri": "https://localhost:8080/"
        },
        "id": "l3g6st8dm1ZT",
        "outputId": "966c10da-954f-4116-ff5b-86909c8cda34"
      },
      "execution_count": null,
      "outputs": [
        {
          "output_type": "execute_result",
          "data": {
            "text/plain": [
              "25"
            ]
          },
          "metadata": {},
          "execution_count": 49
        }
      ]
    },
    {
      "cell_type": "code",
      "source": [
        "awesum(2,3)"
      ],
      "metadata": {
        "colab": {
          "base_uri": "https://localhost:8080/"
        },
        "id": "fkn2lA9boEBv",
        "outputId": "150c7ff5-b78a-4a58-8f76-1badda3eea9d"
      },
      "execution_count": null,
      "outputs": [
        {
          "output_type": "execute_result",
          "data": {
            "text/plain": [
              "8"
            ]
          },
          "metadata": {},
          "execution_count": 51
        }
      ]
    },
    {
      "cell_type": "code",
      "source": [
        "from random import choice\n",
        "def awesum():\n",
        "  result = choice([0,1])\n",
        "  return result\n",
        "is_return = awesum()\n",
        "is_return"
      ],
      "metadata": {
        "colab": {
          "base_uri": "https://localhost:8080/"
        },
        "id": "EtSqqtVioGzR",
        "outputId": "12074c7e-c57f-4c91-e257-d98f786ff4b7"
      },
      "execution_count": null,
      "outputs": [
        {
          "output_type": "execute_result",
          "data": {
            "text/plain": [
              "0"
            ]
          },
          "metadata": {},
          "execution_count": 54
        }
      ]
    },
    {
      "cell_type": "code",
      "source": [
        "def mul_return(num):\n",
        "  moks = num//3\n",
        "  namuji = num % 3\n",
        "  return moks,namuji\n",
        "mul_return(10)"
      ],
      "metadata": {
        "colab": {
          "base_uri": "https://localhost:8080/"
        },
        "id": "hIN3k0Vpoy9j",
        "outputId": "39a9aa04-24a3-4629-fcaa-d2d13c669294"
      },
      "execution_count": null,
      "outputs": [
        {
          "output_type": "execute_result",
          "data": {
            "text/plain": [
              "(3, 1)"
            ]
          },
          "metadata": {},
          "execution_count": 55
        }
      ]
    },
    {
      "cell_type": "code",
      "source": [
        "def id_check(id):\n",
        "  if id == \"admin\":\n",
        "    print(\"invalid id: admin\")\n",
        "    return\n",
        "  else:\n",
        "    print(f\"hello, {id}\")\n",
        "id_check(\"admin\")"
      ],
      "metadata": {
        "colab": {
          "base_uri": "https://localhost:8080/"
        },
        "id": "wNS5McjHptr2",
        "outputId": "043ecdf0-5e8b-4954-9da6-f7164bc30dc4"
      },
      "execution_count": null,
      "outputs": [
        {
          "output_type": "stream",
          "name": "stdout",
          "text": [
            "invalid id: admin\n"
          ]
        }
      ]
    },
    {
      "cell_type": "code",
      "source": [
        "def say_hello(username=\"babo\",nick=True): #기본값이 있는건 그인자를 마지막에 둬야함\n",
        "  print(f\"Hi,{username} \")\n",
        "  if nick == True:\n",
        "    print(\"But, you are Fool\")\n",
        "    return 'fool'\n",
        "  else:\n",
        "    print(\"Oh, you are not Fool\")\n",
        "    return 'smartkid'\n",
        "say_hello(username=\"smart\",nick=False)"
      ],
      "metadata": {
        "colab": {
          "base_uri": "https://localhost:8080/",
          "height": 72
        },
        "id": "SvQdcWmaqEUN",
        "outputId": "b4acfa08-91ee-4f91-a2e5-032848e10f5c"
      },
      "execution_count": null,
      "outputs": [
        {
          "output_type": "stream",
          "name": "stdout",
          "text": [
            "Hi,smart \n",
            "Oh, you are not Fool\n"
          ]
        },
        {
          "output_type": "execute_result",
          "data": {
            "text/plain": [
              "'smartkid'"
            ],
            "application/vnd.google.colaboratory.intrinsic+json": {
              "type": "string"
            }
          },
          "metadata": {},
          "execution_count": 68
        }
      ]
    },
    {
      "cell_type": "code",
      "source": [
        "def mul_sum(*args): \n",
        "  print(args,type(args))\n",
        "mul_sum(1,2,3)"
      ],
      "metadata": {
        "colab": {
          "base_uri": "https://localhost:8080/"
        },
        "id": "Of_2PkmNsvVr",
        "outputId": "e5ed5ee5-325d-4e68-b94b-48bc507453ea"
      },
      "execution_count": null,
      "outputs": [
        {
          "output_type": "stream",
          "name": "stdout",
          "text": [
            "(1, 2, 3) <class 'tuple'>\n"
          ]
        }
      ]
    },
    {
      "cell_type": "code",
      "source": [
        "def mul_sum(*args): \n",
        "\tsum = 0\n",
        "\tfor i in args:\n",
        "\t\tsum += i\n",
        "\treturn sum\n",
        "mul_sum(1,2,3,4)"
      ],
      "metadata": {
        "colab": {
          "base_uri": "https://localhost:8080/"
        },
        "id": "CZBBLEaBrfbk",
        "outputId": "e365c533-a60c-4d46-f7b0-1434dd9247c6"
      },
      "execution_count": null,
      "outputs": [
        {
          "output_type": "execute_result",
          "data": {
            "text/plain": [
              "10"
            ]
          },
          "metadata": {},
          "execution_count": 69
        }
      ]
    },
    {
      "cell_type": "code",
      "source": [
        "def show_kwargs(**kwargs):\n",
        "  print(type(kwargs))\n",
        "show_kwargs(a=10, b=\"google\")\n"
      ],
      "metadata": {
        "colab": {
          "base_uri": "https://localhost:8080/"
        },
        "id": "-xBm8g_2sbaf",
        "outputId": "93020c46-24a2-40f1-931a-0f4f011b595e"
      },
      "execution_count": null,
      "outputs": [
        {
          "output_type": "stream",
          "name": "stdout",
          "text": [
            "<class 'dict'>\n"
          ]
        }
      ]
    },
    {
      "cell_type": "code",
      "source": [
        "def show_kwargs(**kwargs):\n",
        "  print(kwargs,type(kwargs))\n",
        "show_kwargs(a=1,b=2,c=3)"
      ],
      "metadata": {
        "colab": {
          "base_uri": "https://localhost:8080/"
        },
        "id": "fiL6VIGEtP8t",
        "outputId": "c168518a-9839-4811-e10e-966b78138bcf"
      },
      "execution_count": null,
      "outputs": [
        {
          "output_type": "stream",
          "name": "stdout",
          "text": [
            "{'a': 1, 'b': 2, 'c': 3} <class 'dict'>\n"
          ]
        }
      ]
    },
    {
      "cell_type": "markdown",
      "source": [],
      "metadata": {
        "id": "HTWDrAcbvJyO"
      }
    },
    {
      "cell_type": "code",
      "source": [
        "def kwargs_url(server, port,**query):\n",
        "  url = \"https://\" + server + \":\" + port + \"?\"\n",
        "  for key in query.keys():\n",
        "    url += key + \"=\" + query[key] + \"&\"\n",
        "  return url\n",
        "kwargs_url(\"localhost\",\"8080\",utm_source=\"google\",keyword=\"naver\")\n"
      ],
      "metadata": {
        "colab": {
          "base_uri": "https://localhost:8080/",
          "height": 35
        },
        "id": "fYEiPDnmtxIU",
        "outputId": "6b7fd3c9-ca9e-4227-9ffa-d8fa20f1c68b"
      },
      "execution_count": null,
      "outputs": [
        {
          "output_type": "execute_result",
          "data": {
            "text/plain": [
              "'https://localhost:8080?utm_source=google&keyword=naver&'"
            ],
            "application/vnd.google.colaboratory.intrinsic+json": {
              "type": "string"
            }
          },
          "metadata": {},
          "execution_count": 87
        }
      ]
    },
    {
      "cell_type": "code",
      "source": [
        "a=\"hello\"\n",
        "def glob_test(x):\n",
        "  x+=\"world\"\n",
        "  return x\n",
        "\n",
        "glob_test(a)\n",
        "print(a)"
      ],
      "metadata": {
        "colab": {
          "base_uri": "https://localhost:8080/"
        },
        "id": "o6szoU6XB1pf",
        "outputId": "4af71675-5fd1-438f-c2af-94c7ad017c0e"
      },
      "execution_count": null,
      "outputs": [
        {
          "output_type": "stream",
          "name": "stdout",
          "text": [
            "hello\n"
          ]
        }
      ]
    },
    {
      "cell_type": "markdown",
      "source": [],
      "metadata": {
        "id": "83OOaYu1Cu9I"
      }
    },
    {
      "cell_type": "code",
      "source": [
        "a='hello'\n",
        "def glob_test2(a,d):\n",
        "  a+='world'\n",
        "  d+=1\n",
        "  return a,d\n",
        "glob_test2(a,1)"
      ],
      "metadata": {
        "colab": {
          "base_uri": "https://localhost:8080/"
        },
        "id": "IdRoyOxcus_U",
        "outputId": "3a0ae850-fa5d-4156-e34f-0460f7f14a07"
      },
      "execution_count": null,
      "outputs": [
        {
          "output_type": "execute_result",
          "data": {
            "text/plain": [
              "('helloworld', 2)"
            ]
          },
          "metadata": {},
          "execution_count": 94
        }
      ]
    },
    {
      "cell_type": "code",
      "source": [
        "b=\"hello\"\n",
        "def glob_test():\n",
        "  global b\n",
        "  b+='world'\n",
        "  return b\n",
        "glob_test()"
      ],
      "metadata": {
        "colab": {
          "base_uri": "https://localhost:8080/",
          "height": 35
        },
        "id": "G5EgxPKdEoqJ",
        "outputId": "1981c4be-8574-46be-bafc-a9e9ebe6401d"
      },
      "execution_count": null,
      "outputs": [
        {
          "output_type": "execute_result",
          "data": {
            "text/plain": [
              "'helloworld'"
            ],
            "application/vnd.google.colaboratory.intrinsic+json": {
              "type": "string"
            }
          },
          "metadata": {},
          "execution_count": 95
        }
      ]
    },
    {
      "cell_type": "code",
      "source": [
        "#leaf year function\n",
        "def find_leaf(year):\n",
        "  if year%400==0:\n",
        "    return True\n",
        "  elif year%100==0:\n",
        "    return False\n",
        "  elif year%4==0:\n",
        "    return True\n",
        "  else:\n",
        "    return False\n",
        "find_leaf(2.23)"
      ],
      "metadata": {
        "colab": {
          "base_uri": "https://localhost:8080/"
        },
        "id": "3Y6HThYFF2CA",
        "outputId": "46133550-3cf2-4b76-d1be-9167d2770d22"
      },
      "execution_count": null,
      "outputs": [
        {
          "output_type": "execute_result",
          "data": {
            "text/plain": [
              "False"
            ]
          },
          "metadata": {},
          "execution_count": 99
        }
      ]
    },
    {
      "cell_type": "code",
      "source": [
        "#leaf year function\n",
        "def find_leaf(year):\n",
        "  if year%4==0 and (year%100!=0 or year%400==0):\n",
        "    return True\n",
        "  else:\n",
        "    return False\n",
        "for year in [2000,2100,2001,2004,2400]:\n",
        "  print(find_leaf(year))"
      ],
      "metadata": {
        "colab": {
          "base_uri": "https://localhost:8080/"
        },
        "id": "FvmmQOu_HjI_",
        "outputId": "b9e2f1bf-2895-443c-fab7-3dcfd7d0fca9"
      },
      "execution_count": null,
      "outputs": [
        {
          "output_type": "stream",
          "name": "stdout",
          "text": [
            "True\n",
            "False\n",
            "False\n",
            "True\n",
            "True\n"
          ]
        }
      ]
    },
    {
      "cell_type": "code",
      "source": [
        "def greeting(username:str,age:int)->str:\n",
        "  \"\"\"\n",
        "  이름:str과 나이:int를 입력하면 친절하게 인사를 건넬것입니다\n",
        "  \"\"\"\n",
        "  return f\"Hi, {username}, And you are {age} years old\";\n",
        "greeting(username=\"yewon\",age=12)"
      ],
      "metadata": {
        "colab": {
          "base_uri": "https://localhost:8080/",
          "height": 35
        },
        "id": "qmlzBa3FKtDp",
        "outputId": "9de6b773-5f60-46a1-da2d-6ac770ccad6d"
      },
      "execution_count": null,
      "outputs": [
        {
          "output_type": "execute_result",
          "data": {
            "text/plain": [
              "'Hi, yewon, And you are 12 years old'"
            ],
            "application/vnd.google.colaboratory.intrinsic+json": {
              "type": "string"
            }
          },
          "metadata": {},
          "execution_count": 106
        }
      ]
    },
    {
      "cell_type": "code",
      "source": [
        "times = int(input(\"How many times want to curse the beast??: \"))\n",
        "def recurse_beast(a):\n",
        "  if a == 0:\n",
        "    print(\"curse complete!\")\n",
        "    return \n",
        "  else:\n",
        "    print(f\"Fusion!!! ({a-1} times left)\")\n",
        "    return recurse_beast(a-1)\n",
        "recurse_beast(times)"
      ],
      "metadata": {
        "colab": {
          "base_uri": "https://localhost:8080/"
        },
        "id": "ooq2qAJoQHOR",
        "outputId": "3f74e43d-4267-4be8-ef02-422144d7ab6e"
      },
      "execution_count": null,
      "outputs": [
        {
          "output_type": "stream",
          "name": "stdout",
          "text": [
            "How many times want to curse the beast??: 4\n",
            "Fusion!!! (3 times left)\n",
            "Fusion!!! (2 times left)\n",
            "Fusion!!! (1 times left)\n",
            "Fusion!!! (0 times left)\n",
            "curse complete!\n"
          ]
        }
      ]
    },
    {
      "cell_type": "code",
      "source": [
        "num = int(input(\"what number want to get fibonacci number\"))\n",
        "def fibonacci(a: int) -> int:\n",
        "  if a == 0 :\n",
        "    return 0\n",
        "  if a==1:\n",
        "    return 1\n",
        "  else:\n",
        "    return fibonacci(a-1)+fibonacci(a-2)\n",
        "for i in range(10):\n",
        "  print(fibonacci(i))\n"
      ],
      "metadata": {
        "colab": {
          "base_uri": "https://localhost:8080/"
        },
        "id": "vpD76AM8Rxtb",
        "outputId": "d7d050f5-943c-42f1-8f81-a32f4789245b"
      },
      "execution_count": null,
      "outputs": [
        {
          "output_type": "stream",
          "name": "stdout",
          "text": [
            "what number want to get fibonacci number10\n",
            "0\n",
            "1\n",
            "1\n",
            "2\n",
            "3\n",
            "5\n",
            "8\n",
            "13\n",
            "21\n",
            "34\n"
          ]
        }
      ]
    },
    {
      "cell_type": "code",
      "source": [
        "import math\n",
        "def binet_fibo(n):\n",
        "  sqrt_5 = math.sqrt(5)\n",
        "  result = int(((1+sqrt_5)**n-(1-sqrt_5)**n) / (2**n*sqrt_5))\n",
        "  return result\n",
        "binet_fibo(5)"
      ],
      "metadata": {
        "colab": {
          "base_uri": "https://localhost:8080/"
        },
        "id": "-KTX76YxVAP6",
        "outputId": "62ee439e-e513-4724-f2b2-1a805a1179ba"
      },
      "execution_count": null,
      "outputs": [
        {
          "output_type": "execute_result",
          "data": {
            "text/plain": [
              "5"
            ]
          },
          "metadata": {},
          "execution_count": 136
        }
      ]
    },
    {
      "cell_type": "code",
      "source": [
        "2**0.5"
      ],
      "metadata": {
        "colab": {
          "base_uri": "https://localhost:8080/"
        },
        "id": "llz0kmW3X80u",
        "outputId": "d348cf3d-ef06-4245-9724-4f06ce24566c"
      },
      "execution_count": null,
      "outputs": [
        {
          "output_type": "execute_result",
          "data": {
            "text/plain": [
              "1.4142135623730951"
            ]
          },
          "metadata": {},
          "execution_count": 131
        }
      ]
    },
    {
      "cell_type": "code",
      "source": [
        "#걸린시간 측정\n",
        "from time import time\n",
        "s_time=time()\n",
        "binet_fibo(35)\n",
        "e_time=time()\n",
        "binet_time=e_time-s_time\n",
        "print(binet_time)"
      ],
      "metadata": {
        "colab": {
          "base_uri": "https://localhost:8080/"
        },
        "id": "2GMF35axYGpl",
        "outputId": "5dfe3a58-8c3c-4ec8-c5bd-89468caaaed1"
      },
      "execution_count": null,
      "outputs": [
        {
          "output_type": "stream",
          "name": "stdout",
          "text": [
            "9.870529174804688e-05\n"
          ]
        }
      ]
    },
    {
      "cell_type": "code",
      "source": [
        "s_time=time()\n",
        "fibonacci(35)\n",
        "e_time=time()\n",
        "fibo_time=e_time-s_time\n",
        "print(fibo_time)"
      ],
      "metadata": {
        "colab": {
          "base_uri": "https://localhost:8080/"
        },
        "id": "VPuoHEd8c2VK",
        "outputId": "07e4ac38-304d-4bf6-c745-dc3766b8a7d9"
      },
      "execution_count": null,
      "outputs": [
        {
          "output_type": "stream",
          "name": "stdout",
          "text": [
            "4.632827043533325\n"
          ]
        }
      ]
    },
    {
      "cell_type": "code",
      "source": [
        "old_lst=[1,2,3,4,5,]\n",
        "d_list=[]\n",
        "for i in old_lst:\n",
        "  d_list.append(i*2)\n",
        "print(d_list)"
      ],
      "metadata": {
        "colab": {
          "base_uri": "https://localhost:8080/"
        },
        "id": "g33fntmsc-bk",
        "outputId": "c5b8d46b-7ae3-4442-ca57-39f7e809ac02"
      },
      "execution_count": null,
      "outputs": [
        {
          "output_type": "stream",
          "name": "stdout",
          "text": [
            "[2, 4, 6, 8, 10]\n"
          ]
        }
      ]
    },
    {
      "cell_type": "code",
      "source": [
        "[i*2 for i in old_lst]"
      ],
      "metadata": {
        "colab": {
          "base_uri": "https://localhost:8080/"
        },
        "id": "f_Wd03LneYVf",
        "outputId": "8ccf8b76-47dd-4fc7-eb6b-d7723ccdda58"
      },
      "execution_count": null,
      "outputs": [
        {
          "output_type": "execute_result",
          "data": {
            "text/plain": [
              "[2, 4, 6, 8, 10]"
            ]
          },
          "metadata": {},
          "execution_count": 142
        }
      ]
    },
    {
      "cell_type": "code",
      "source": [
        "[i*2 if i%2==0 else\n",
        " i**2 if i%3==0 else \n",
        " i for i in old_lst] "
      ],
      "metadata": {
        "colab": {
          "base_uri": "https://localhost:8080/"
        },
        "id": "gr2tX5idewHK",
        "outputId": "f18eb377-eef9-4b8a-82b5-2622111caf03"
      },
      "execution_count": null,
      "outputs": [
        {
          "output_type": "execute_result",
          "data": {
            "text/plain": [
              "[1, 4, 9, 8, 5]"
            ]
          },
          "metadata": {},
          "execution_count": 148
        }
      ]
    },
    {
      "cell_type": "code",
      "source": [
        "## fizzbuzz list\n",
        "num_range = [i for i in range(1,30+1)]\n",
        "\n",
        "##List comprehension\n",
        "fb_list= [\"fizzbuzz\" if i%15==0 else\n",
        " \"fizz\" if i%3==0 else \n",
        "  \"buzz\" if i%5==0 else \n",
        " i for i in num_range] \n",
        "fb_list"
      ],
      "metadata": {
        "colab": {
          "base_uri": "https://localhost:8080/"
        },
        "id": "jy4JAs1ZgzSW",
        "outputId": "d132fbf5-46f6-4508-f7c8-9888a767cda2"
      },
      "execution_count": null,
      "outputs": [
        {
          "output_type": "execute_result",
          "data": {
            "text/plain": [
              "[1,\n",
              " 2,\n",
              " 'fizz',\n",
              " 4,\n",
              " 'buzz',\n",
              " 'fizz',\n",
              " 7,\n",
              " 8,\n",
              " 'fizz',\n",
              " 'buzz',\n",
              " 11,\n",
              " 'fizz',\n",
              " 13,\n",
              " 14,\n",
              " 'fizzbuzz',\n",
              " 16,\n",
              " 17,\n",
              " 'fizz',\n",
              " 19,\n",
              " 'buzz',\n",
              " 'fizz',\n",
              " 22,\n",
              " 23,\n",
              " 'fizz',\n",
              " 'buzz',\n",
              " 26,\n",
              " 'fizz',\n",
              " 28,\n",
              " 29,\n",
              " 'fizzbuzz']"
            ]
          },
          "metadata": {},
          "execution_count": 152
        }
      ]
    },
    {
      "cell_type": "markdown",
      "source": [
        "\n",
        "## Dictionary Comperhension"
      ],
      "metadata": {
        "id": "LsKT8ll0jIg2"
      }
    },
    {
      "cell_type": "code",
      "source": [
        "old_dict = {1:1,2:2,3:3,4:4,}\n",
        "new_dict = {}\n",
        "for k,v in old_dict.items():\n",
        "  new_dict[k]=v*2\n",
        "new_dict"
      ],
      "metadata": {
        "colab": {
          "base_uri": "https://localhost:8080/"
        },
        "id": "VIS2v2ozjHt7",
        "outputId": "1cc56584-b78f-4855-cc55-95485d7c57bd"
      },
      "execution_count": null,
      "outputs": [
        {
          "output_type": "execute_result",
          "data": {
            "text/plain": [
              "{1: 2, 2: 4, 3: 6, 4: 8}"
            ]
          },
          "metadata": {},
          "execution_count": 154
        }
      ]
    },
    {
      "cell_type": "code",
      "source": [
        "new_dict={k:v*2 for k,v in old_dict.items()}\n",
        "new_dict"
      ],
      "metadata": {
        "colab": {
          "base_uri": "https://localhost:8080/"
        },
        "id": "spGUYDgUjHH6",
        "outputId": "6d41b36e-949d-4b2e-8c0a-a09938e4ffe7"
      },
      "execution_count": null,
      "outputs": [
        {
          "output_type": "execute_result",
          "data": {
            "text/plain": [
              "{1: 2, 2: 4, 3: 6, 4: 8}"
            ]
          },
          "metadata": {},
          "execution_count": 156
        }
      ]
    },
    {
      "cell_type": "code",
      "source": [
        "old_dict = {1:1,2:2,3:3,4:4,}\n",
        "new_dict = {}\n",
        "for k,v in old_dict.items():\n",
        "  if v%2==0:\n",
        "    new_dict[k*2]=v*2\n",
        "new_dict"
      ],
      "metadata": {
        "colab": {
          "base_uri": "https://localhost:8080/"
        },
        "id": "7-3QGrnQjgTT",
        "outputId": "d2c5ae19-afc8-444c-cb8b-4fa0fb9b6a9b"
      },
      "execution_count": null,
      "outputs": [
        {
          "output_type": "execute_result",
          "data": {
            "text/plain": [
              "{4: 4, 8: 8}"
            ]
          },
          "metadata": {},
          "execution_count": 158
        }
      ]
    },
    {
      "cell_type": "code",
      "source": [],
      "metadata": {
        "id": "QnzOZY-cj5Ko"
      },
      "execution_count": null,
      "outputs": []
    }
  ]
}